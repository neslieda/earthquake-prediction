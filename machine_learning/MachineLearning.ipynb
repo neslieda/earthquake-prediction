{
 "cells": [
  {
   "cell_type": "code",
   "execution_count": 77,
   "id": "443d9143",
   "metadata": {},
   "outputs": [],
   "source": [
    "import pandas as pd\n",
    "import numpy as np\n",
    "import matplotlib.pyplot as plt\n",
    "import seaborn as sns\n",
    "from sklearn import preprocessing\n",
    "from sklearn.preprocessing import StandardScaler\n",
    "from sklearn.model_selection import train_test_split\n",
    "from sklearn.tree import DecisionTreeClassifier\n",
    "from sklearn import metrics\n",
    "from sklearn.model_selection import cross_val_score\n",
    "from  sklearn.metrics import classification_report\n",
    "from sklearn.neighbors import KNeighborsClassifier\n",
    "from sklearn.naive_bayes import GaussianNB\n",
    "from sklearn.linear_model import LogisticRegression\n",
    "import openpyxl\n",
    "from collections import Counter\n"
   ]
  },
  {
   "cell_type": "code",
   "execution_count": 78,
   "id": "55c41f35",
   "metadata": {},
   "outputs": [],
   "source": [
    "# CSV dosyasını yükleme\n",
    "file_path = \"output.csv\"\n",
    "data = pd.read_csv(file_path, encoding=\"utf-8\")"
   ]
  },
  {
   "cell_type": "code",
   "execution_count": 79,
   "id": "65ecbefe",
   "metadata": {},
   "outputs": [
    {
     "data": {
      "text/html": [
       "<div>\n",
       "<style scoped>\n",
       "    .dataframe tbody tr th:only-of-type {\n",
       "        vertical-align: middle;\n",
       "    }\n",
       "\n",
       "    .dataframe tbody tr th {\n",
       "        vertical-align: top;\n",
       "    }\n",
       "\n",
       "    .dataframe thead th {\n",
       "        text-align: right;\n",
       "    }\n",
       "</style>\n",
       "<table border=\"1\" class=\"dataframe\">\n",
       "  <thead>\n",
       "    <tr style=\"text-align: right;\">\n",
       "      <th></th>\n",
       "      <th>Date(TS)</th>\n",
       "      <th>Latitude</th>\n",
       "      <th>Longitude</th>\n",
       "      <th>Depth</th>\n",
       "      <th>Type</th>\n",
       "      <th>Magnitude</th>\n",
       "      <th>Location</th>\n",
       "      <th>EventID</th>\n",
       "    </tr>\n",
       "  </thead>\n",
       "  <tbody>\n",
       "    <tr>\n",
       "      <th>0</th>\n",
       "      <td>19-12-2023 15:53:54</td>\n",
       "      <td>36.7533</td>\n",
       "      <td>31.9392</td>\n",
       "      <td>11.18</td>\n",
       "      <td>ML</td>\n",
       "      <td>1.7</td>\n",
       "      <td>Alanya (Antalya)</td>\n",
       "      <td>613340</td>\n",
       "    </tr>\n",
       "    <tr>\n",
       "      <th>1</th>\n",
       "      <td>19-12-2023 15:40:41</td>\n",
       "      <td>40.0211</td>\n",
       "      <td>35.0383</td>\n",
       "      <td>7.00</td>\n",
       "      <td>ML</td>\n",
       "      <td>1.5</td>\n",
       "      <td>Alaca (Çorum)</td>\n",
       "      <td>613341</td>\n",
       "    </tr>\n",
       "    <tr>\n",
       "      <th>2</th>\n",
       "      <td>19-12-2023 15:24:32</td>\n",
       "      <td>39.9367</td>\n",
       "      <td>39.3114</td>\n",
       "      <td>14.52</td>\n",
       "      <td>ML</td>\n",
       "      <td>2.2</td>\n",
       "      <td>Kelkit (Gümüşhane)</td>\n",
       "      <td>613339</td>\n",
       "    </tr>\n",
       "    <tr>\n",
       "      <th>3</th>\n",
       "      <td>19-12-2023 15:11:38</td>\n",
       "      <td>38.2667</td>\n",
       "      <td>39.1936</td>\n",
       "      <td>7.22</td>\n",
       "      <td>ML</td>\n",
       "      <td>1.9</td>\n",
       "      <td>Çüngüş (Diyarbakır)</td>\n",
       "      <td>613338</td>\n",
       "    </tr>\n",
       "    <tr>\n",
       "      <th>4</th>\n",
       "      <td>19-12-2023 14:52:11</td>\n",
       "      <td>38.1194</td>\n",
       "      <td>38.4828</td>\n",
       "      <td>7.00</td>\n",
       "      <td>ML</td>\n",
       "      <td>1.0</td>\n",
       "      <td>Sincik (Adıyaman)</td>\n",
       "      <td>613337</td>\n",
       "    </tr>\n",
       "    <tr>\n",
       "      <th>...</th>\n",
       "      <td>...</td>\n",
       "      <td>...</td>\n",
       "      <td>...</td>\n",
       "      <td>...</td>\n",
       "      <td>...</td>\n",
       "      <td>...</td>\n",
       "      <td>...</td>\n",
       "      <td>...</td>\n",
       "    </tr>\n",
       "    <tr>\n",
       "      <th>3335</th>\n",
       "      <td>19-12-2023 00:31:44</td>\n",
       "      <td>37.3239</td>\n",
       "      <td>37.0428</td>\n",
       "      <td>8.14</td>\n",
       "      <td>ML</td>\n",
       "      <td>1.7</td>\n",
       "      <td>Pazarcık (Kahramanmaraş)</td>\n",
       "      <td>613286</td>\n",
       "    </tr>\n",
       "    <tr>\n",
       "      <th>3336</th>\n",
       "      <td>19-12-2023 00:28:45</td>\n",
       "      <td>37.3258</td>\n",
       "      <td>37.0450</td>\n",
       "      <td>5.00</td>\n",
       "      <td>ML</td>\n",
       "      <td>2.1</td>\n",
       "      <td>Pazarcık (Kahramanmaraş)</td>\n",
       "      <td>613285</td>\n",
       "    </tr>\n",
       "    <tr>\n",
       "      <th>3337</th>\n",
       "      <td>19-12-2023 00:27:49</td>\n",
       "      <td>39.9269</td>\n",
       "      <td>39.3019</td>\n",
       "      <td>12.39</td>\n",
       "      <td>ML</td>\n",
       "      <td>2.7</td>\n",
       "      <td>Kelkit (Gümüşhane)</td>\n",
       "      <td>613282</td>\n",
       "    </tr>\n",
       "    <tr>\n",
       "      <th>3338</th>\n",
       "      <td>19-12-2023 00:24:10</td>\n",
       "      <td>39.9258</td>\n",
       "      <td>39.3258</td>\n",
       "      <td>7.05</td>\n",
       "      <td>ML</td>\n",
       "      <td>1.6</td>\n",
       "      <td>Kelkit (Gümüşhane)</td>\n",
       "      <td>613284</td>\n",
       "    </tr>\n",
       "    <tr>\n",
       "      <th>3339</th>\n",
       "      <td>19-12-2023 00:19:11</td>\n",
       "      <td>39.9208</td>\n",
       "      <td>39.2883</td>\n",
       "      <td>7.03</td>\n",
       "      <td>ML</td>\n",
       "      <td>1.8</td>\n",
       "      <td>Kelkit (Gümüşhane)</td>\n",
       "      <td>613283</td>\n",
       "    </tr>\n",
       "  </tbody>\n",
       "</table>\n",
       "<p>3340 rows × 8 columns</p>\n",
       "</div>"
      ],
      "text/plain": [
       "                 Date(TS)  Latitude  Longitude  Depth Type  Magnitude  \\\n",
       "0     19-12-2023 15:53:54   36.7533    31.9392  11.18   ML        1.7   \n",
       "1     19-12-2023 15:40:41   40.0211    35.0383   7.00   ML        1.5   \n",
       "2     19-12-2023 15:24:32   39.9367    39.3114  14.52   ML        2.2   \n",
       "3     19-12-2023 15:11:38   38.2667    39.1936   7.22   ML        1.9   \n",
       "4     19-12-2023 14:52:11   38.1194    38.4828   7.00   ML        1.0   \n",
       "...                   ...       ...        ...    ...  ...        ...   \n",
       "3335  19-12-2023 00:31:44   37.3239    37.0428   8.14   ML        1.7   \n",
       "3336  19-12-2023 00:28:45   37.3258    37.0450   5.00   ML        2.1   \n",
       "3337  19-12-2023 00:27:49   39.9269    39.3019  12.39   ML        2.7   \n",
       "3338  19-12-2023 00:24:10   39.9258    39.3258   7.05   ML        1.6   \n",
       "3339  19-12-2023 00:19:11   39.9208    39.2883   7.03   ML        1.8   \n",
       "\n",
       "                      Location  EventID  \n",
       "0             Alanya (Antalya)   613340  \n",
       "1                Alaca (Çorum)   613341  \n",
       "2           Kelkit (Gümüşhane)   613339  \n",
       "3          Çüngüş (Diyarbakır)   613338  \n",
       "4            Sincik (Adıyaman)   613337  \n",
       "...                        ...      ...  \n",
       "3335  Pazarcık (Kahramanmaraş)   613286  \n",
       "3336  Pazarcık (Kahramanmaraş)   613285  \n",
       "3337        Kelkit (Gümüşhane)   613282  \n",
       "3338        Kelkit (Gümüşhane)   613284  \n",
       "3339        Kelkit (Gümüşhane)   613283  \n",
       "\n",
       "[3340 rows x 8 columns]"
      ]
     },
     "execution_count": 79,
     "metadata": {},
     "output_type": "execute_result"
    }
   ],
   "source": [
    "data"
   ]
  },
  {
   "cell_type": "code",
   "execution_count": 80,
   "id": "c0980d35",
   "metadata": {},
   "outputs": [],
   "source": [
    "\"\"\"\n",
    "DataFrame'deki her sutunun toplam NaN değerlerin sayısına bakıldı.\n",
    "Ancak herhangi bir NaN ifadesi olmadığı için DataFrame'de işlem yapılmadı.\n",
    "\"\"\"\n",
    "NaN_values= data.isna().sum()\n",
    "#print(NaN_values)\n",
    "\n",
    "data = data.drop(\"EventID\", axis=1)"
   ]
  },
  {
   "cell_type": "code",
   "execution_count": 81,
   "id": "8f2d1c3e",
   "metadata": {
    "scrolled": true
   },
   "outputs": [
    {
     "data": {
      "text/html": [
       "<div>\n",
       "<style scoped>\n",
       "    .dataframe tbody tr th:only-of-type {\n",
       "        vertical-align: middle;\n",
       "    }\n",
       "\n",
       "    .dataframe tbody tr th {\n",
       "        vertical-align: top;\n",
       "    }\n",
       "\n",
       "    .dataframe thead th {\n",
       "        text-align: right;\n",
       "    }\n",
       "</style>\n",
       "<table border=\"1\" class=\"dataframe\">\n",
       "  <thead>\n",
       "    <tr style=\"text-align: right;\">\n",
       "      <th></th>\n",
       "      <th>Date(TS)</th>\n",
       "      <th>Latitude</th>\n",
       "      <th>Longitude</th>\n",
       "      <th>Depth</th>\n",
       "      <th>Type</th>\n",
       "      <th>Magnitude</th>\n",
       "      <th>Location</th>\n",
       "    </tr>\n",
       "  </thead>\n",
       "  <tbody>\n",
       "    <tr>\n",
       "      <th>0</th>\n",
       "      <td>19-12-2023 15:53:54</td>\n",
       "      <td>36.7533</td>\n",
       "      <td>31.9392</td>\n",
       "      <td>11.18</td>\n",
       "      <td>ML</td>\n",
       "      <td>1.7</td>\n",
       "      <td>Alanya (Antalya)</td>\n",
       "    </tr>\n",
       "    <tr>\n",
       "      <th>1</th>\n",
       "      <td>19-12-2023 15:40:41</td>\n",
       "      <td>40.0211</td>\n",
       "      <td>35.0383</td>\n",
       "      <td>7.00</td>\n",
       "      <td>ML</td>\n",
       "      <td>1.5</td>\n",
       "      <td>Alaca (Çorum)</td>\n",
       "    </tr>\n",
       "    <tr>\n",
       "      <th>2</th>\n",
       "      <td>19-12-2023 15:24:32</td>\n",
       "      <td>39.9367</td>\n",
       "      <td>39.3114</td>\n",
       "      <td>14.52</td>\n",
       "      <td>ML</td>\n",
       "      <td>2.2</td>\n",
       "      <td>Kelkit (Gümüşhane)</td>\n",
       "    </tr>\n",
       "    <tr>\n",
       "      <th>3</th>\n",
       "      <td>19-12-2023 15:11:38</td>\n",
       "      <td>38.2667</td>\n",
       "      <td>39.1936</td>\n",
       "      <td>7.22</td>\n",
       "      <td>ML</td>\n",
       "      <td>1.9</td>\n",
       "      <td>Çüngüş (Diyarbakır)</td>\n",
       "    </tr>\n",
       "    <tr>\n",
       "      <th>4</th>\n",
       "      <td>19-12-2023 14:52:11</td>\n",
       "      <td>38.1194</td>\n",
       "      <td>38.4828</td>\n",
       "      <td>7.00</td>\n",
       "      <td>ML</td>\n",
       "      <td>1.0</td>\n",
       "      <td>Sincik (Adıyaman)</td>\n",
       "    </tr>\n",
       "    <tr>\n",
       "      <th>...</th>\n",
       "      <td>...</td>\n",
       "      <td>...</td>\n",
       "      <td>...</td>\n",
       "      <td>...</td>\n",
       "      <td>...</td>\n",
       "      <td>...</td>\n",
       "      <td>...</td>\n",
       "    </tr>\n",
       "    <tr>\n",
       "      <th>3335</th>\n",
       "      <td>19-12-2023 00:31:44</td>\n",
       "      <td>37.3239</td>\n",
       "      <td>37.0428</td>\n",
       "      <td>8.14</td>\n",
       "      <td>ML</td>\n",
       "      <td>1.7</td>\n",
       "      <td>Pazarcık (Kahramanmaraş)</td>\n",
       "    </tr>\n",
       "    <tr>\n",
       "      <th>3336</th>\n",
       "      <td>19-12-2023 00:28:45</td>\n",
       "      <td>37.3258</td>\n",
       "      <td>37.0450</td>\n",
       "      <td>5.00</td>\n",
       "      <td>ML</td>\n",
       "      <td>2.1</td>\n",
       "      <td>Pazarcık (Kahramanmaraş)</td>\n",
       "    </tr>\n",
       "    <tr>\n",
       "      <th>3337</th>\n",
       "      <td>19-12-2023 00:27:49</td>\n",
       "      <td>39.9269</td>\n",
       "      <td>39.3019</td>\n",
       "      <td>12.39</td>\n",
       "      <td>ML</td>\n",
       "      <td>2.7</td>\n",
       "      <td>Kelkit (Gümüşhane)</td>\n",
       "    </tr>\n",
       "    <tr>\n",
       "      <th>3338</th>\n",
       "      <td>19-12-2023 00:24:10</td>\n",
       "      <td>39.9258</td>\n",
       "      <td>39.3258</td>\n",
       "      <td>7.05</td>\n",
       "      <td>ML</td>\n",
       "      <td>1.6</td>\n",
       "      <td>Kelkit (Gümüşhane)</td>\n",
       "    </tr>\n",
       "    <tr>\n",
       "      <th>3339</th>\n",
       "      <td>19-12-2023 00:19:11</td>\n",
       "      <td>39.9208</td>\n",
       "      <td>39.2883</td>\n",
       "      <td>7.03</td>\n",
       "      <td>ML</td>\n",
       "      <td>1.8</td>\n",
       "      <td>Kelkit (Gümüşhane)</td>\n",
       "    </tr>\n",
       "  </tbody>\n",
       "</table>\n",
       "<p>3340 rows × 7 columns</p>\n",
       "</div>"
      ],
      "text/plain": [
       "                 Date(TS)  Latitude  Longitude  Depth Type  Magnitude  \\\n",
       "0     19-12-2023 15:53:54   36.7533    31.9392  11.18   ML        1.7   \n",
       "1     19-12-2023 15:40:41   40.0211    35.0383   7.00   ML        1.5   \n",
       "2     19-12-2023 15:24:32   39.9367    39.3114  14.52   ML        2.2   \n",
       "3     19-12-2023 15:11:38   38.2667    39.1936   7.22   ML        1.9   \n",
       "4     19-12-2023 14:52:11   38.1194    38.4828   7.00   ML        1.0   \n",
       "...                   ...       ...        ...    ...  ...        ...   \n",
       "3335  19-12-2023 00:31:44   37.3239    37.0428   8.14   ML        1.7   \n",
       "3336  19-12-2023 00:28:45   37.3258    37.0450   5.00   ML        2.1   \n",
       "3337  19-12-2023 00:27:49   39.9269    39.3019  12.39   ML        2.7   \n",
       "3338  19-12-2023 00:24:10   39.9258    39.3258   7.05   ML        1.6   \n",
       "3339  19-12-2023 00:19:11   39.9208    39.2883   7.03   ML        1.8   \n",
       "\n",
       "                      Location  \n",
       "0             Alanya (Antalya)  \n",
       "1                Alaca (Çorum)  \n",
       "2           Kelkit (Gümüşhane)  \n",
       "3          Çüngüş (Diyarbakır)  \n",
       "4            Sincik (Adıyaman)  \n",
       "...                        ...  \n",
       "3335  Pazarcık (Kahramanmaraş)  \n",
       "3336  Pazarcık (Kahramanmaraş)  \n",
       "3337        Kelkit (Gümüşhane)  \n",
       "3338        Kelkit (Gümüşhane)  \n",
       "3339        Kelkit (Gümüşhane)  \n",
       "\n",
       "[3340 rows x 7 columns]"
      ]
     },
     "execution_count": 81,
     "metadata": {},
     "output_type": "execute_result"
    }
   ],
   "source": [
    "data"
   ]
  },
  {
   "cell_type": "markdown",
   "id": "e2fd4650",
   "metadata": {},
   "source": [
    "# One-Hot Encode"
   ]
  },
  {
   "cell_type": "code",
   "execution_count": 82,
   "id": "afab3ee8",
   "metadata": {},
   "outputs": [],
   "source": [
    "one_hot_encoded = pd.get_dummies(data['Type'], prefix='Type')\n",
    "\n",
    "data = pd.concat([data, one_hot_encoded], axis=1)\n",
    "\n",
    "# One-Hot Encoding yapıldığı için Type sütunu silinir\n",
    "data = data.drop('Type', axis=1)\n"
   ]
  },
  {
   "cell_type": "code",
   "execution_count": 83,
   "id": "a2f0bedf",
   "metadata": {
    "scrolled": true
   },
   "outputs": [
    {
     "data": {
      "text/html": [
       "<div>\n",
       "<style scoped>\n",
       "    .dataframe tbody tr th:only-of-type {\n",
       "        vertical-align: middle;\n",
       "    }\n",
       "\n",
       "    .dataframe tbody tr th {\n",
       "        vertical-align: top;\n",
       "    }\n",
       "\n",
       "    .dataframe thead th {\n",
       "        text-align: right;\n",
       "    }\n",
       "</style>\n",
       "<table border=\"1\" class=\"dataframe\">\n",
       "  <thead>\n",
       "    <tr style=\"text-align: right;\">\n",
       "      <th></th>\n",
       "      <th>Date(TS)</th>\n",
       "      <th>Latitude</th>\n",
       "      <th>Longitude</th>\n",
       "      <th>Depth</th>\n",
       "      <th>Magnitude</th>\n",
       "      <th>Location</th>\n",
       "      <th>Type_ML</th>\n",
       "    </tr>\n",
       "  </thead>\n",
       "  <tbody>\n",
       "    <tr>\n",
       "      <th>0</th>\n",
       "      <td>19-12-2023 15:53:54</td>\n",
       "      <td>36.7533</td>\n",
       "      <td>31.9392</td>\n",
       "      <td>11.18</td>\n",
       "      <td>1.7</td>\n",
       "      <td>Alanya (Antalya)</td>\n",
       "      <td>True</td>\n",
       "    </tr>\n",
       "    <tr>\n",
       "      <th>1</th>\n",
       "      <td>19-12-2023 15:40:41</td>\n",
       "      <td>40.0211</td>\n",
       "      <td>35.0383</td>\n",
       "      <td>7.00</td>\n",
       "      <td>1.5</td>\n",
       "      <td>Alaca (Çorum)</td>\n",
       "      <td>True</td>\n",
       "    </tr>\n",
       "    <tr>\n",
       "      <th>2</th>\n",
       "      <td>19-12-2023 15:24:32</td>\n",
       "      <td>39.9367</td>\n",
       "      <td>39.3114</td>\n",
       "      <td>14.52</td>\n",
       "      <td>2.2</td>\n",
       "      <td>Kelkit (Gümüşhane)</td>\n",
       "      <td>True</td>\n",
       "    </tr>\n",
       "    <tr>\n",
       "      <th>3</th>\n",
       "      <td>19-12-2023 15:11:38</td>\n",
       "      <td>38.2667</td>\n",
       "      <td>39.1936</td>\n",
       "      <td>7.22</td>\n",
       "      <td>1.9</td>\n",
       "      <td>Çüngüş (Diyarbakır)</td>\n",
       "      <td>True</td>\n",
       "    </tr>\n",
       "    <tr>\n",
       "      <th>4</th>\n",
       "      <td>19-12-2023 14:52:11</td>\n",
       "      <td>38.1194</td>\n",
       "      <td>38.4828</td>\n",
       "      <td>7.00</td>\n",
       "      <td>1.0</td>\n",
       "      <td>Sincik (Adıyaman)</td>\n",
       "      <td>True</td>\n",
       "    </tr>\n",
       "    <tr>\n",
       "      <th>...</th>\n",
       "      <td>...</td>\n",
       "      <td>...</td>\n",
       "      <td>...</td>\n",
       "      <td>...</td>\n",
       "      <td>...</td>\n",
       "      <td>...</td>\n",
       "      <td>...</td>\n",
       "    </tr>\n",
       "    <tr>\n",
       "      <th>3335</th>\n",
       "      <td>19-12-2023 00:31:44</td>\n",
       "      <td>37.3239</td>\n",
       "      <td>37.0428</td>\n",
       "      <td>8.14</td>\n",
       "      <td>1.7</td>\n",
       "      <td>Pazarcık (Kahramanmaraş)</td>\n",
       "      <td>True</td>\n",
       "    </tr>\n",
       "    <tr>\n",
       "      <th>3336</th>\n",
       "      <td>19-12-2023 00:28:45</td>\n",
       "      <td>37.3258</td>\n",
       "      <td>37.0450</td>\n",
       "      <td>5.00</td>\n",
       "      <td>2.1</td>\n",
       "      <td>Pazarcık (Kahramanmaraş)</td>\n",
       "      <td>True</td>\n",
       "    </tr>\n",
       "    <tr>\n",
       "      <th>3337</th>\n",
       "      <td>19-12-2023 00:27:49</td>\n",
       "      <td>39.9269</td>\n",
       "      <td>39.3019</td>\n",
       "      <td>12.39</td>\n",
       "      <td>2.7</td>\n",
       "      <td>Kelkit (Gümüşhane)</td>\n",
       "      <td>True</td>\n",
       "    </tr>\n",
       "    <tr>\n",
       "      <th>3338</th>\n",
       "      <td>19-12-2023 00:24:10</td>\n",
       "      <td>39.9258</td>\n",
       "      <td>39.3258</td>\n",
       "      <td>7.05</td>\n",
       "      <td>1.6</td>\n",
       "      <td>Kelkit (Gümüşhane)</td>\n",
       "      <td>True</td>\n",
       "    </tr>\n",
       "    <tr>\n",
       "      <th>3339</th>\n",
       "      <td>19-12-2023 00:19:11</td>\n",
       "      <td>39.9208</td>\n",
       "      <td>39.2883</td>\n",
       "      <td>7.03</td>\n",
       "      <td>1.8</td>\n",
       "      <td>Kelkit (Gümüşhane)</td>\n",
       "      <td>True</td>\n",
       "    </tr>\n",
       "  </tbody>\n",
       "</table>\n",
       "<p>3340 rows × 7 columns</p>\n",
       "</div>"
      ],
      "text/plain": [
       "                 Date(TS)  Latitude  Longitude  Depth  Magnitude  \\\n",
       "0     19-12-2023 15:53:54   36.7533    31.9392  11.18        1.7   \n",
       "1     19-12-2023 15:40:41   40.0211    35.0383   7.00        1.5   \n",
       "2     19-12-2023 15:24:32   39.9367    39.3114  14.52        2.2   \n",
       "3     19-12-2023 15:11:38   38.2667    39.1936   7.22        1.9   \n",
       "4     19-12-2023 14:52:11   38.1194    38.4828   7.00        1.0   \n",
       "...                   ...       ...        ...    ...        ...   \n",
       "3335  19-12-2023 00:31:44   37.3239    37.0428   8.14        1.7   \n",
       "3336  19-12-2023 00:28:45   37.3258    37.0450   5.00        2.1   \n",
       "3337  19-12-2023 00:27:49   39.9269    39.3019  12.39        2.7   \n",
       "3338  19-12-2023 00:24:10   39.9258    39.3258   7.05        1.6   \n",
       "3339  19-12-2023 00:19:11   39.9208    39.2883   7.03        1.8   \n",
       "\n",
       "                      Location  Type_ML  \n",
       "0             Alanya (Antalya)     True  \n",
       "1                Alaca (Çorum)     True  \n",
       "2           Kelkit (Gümüşhane)     True  \n",
       "3          Çüngüş (Diyarbakır)     True  \n",
       "4            Sincik (Adıyaman)     True  \n",
       "...                        ...      ...  \n",
       "3335  Pazarcık (Kahramanmaraş)     True  \n",
       "3336  Pazarcık (Kahramanmaraş)     True  \n",
       "3337        Kelkit (Gümüşhane)     True  \n",
       "3338        Kelkit (Gümüşhane)     True  \n",
       "3339        Kelkit (Gümüşhane)     True  \n",
       "\n",
       "[3340 rows x 7 columns]"
      ]
     },
     "execution_count": 83,
     "metadata": {},
     "output_type": "execute_result"
    }
   ],
   "source": [
    "data"
   ]
  },
  {
   "cell_type": "markdown",
   "id": "f0d1d8cb",
   "metadata": {},
   "source": [
    "# Feature Engineering"
   ]
  },
  {
   "cell_type": "code",
   "execution_count": 84,
   "id": "6fbaba2d",
   "metadata": {},
   "outputs": [],
   "source": [
    "\"\"\"\n",
    "Feature Engineering yaparak veri setinin özelliklerinden yeni özellikler oluşturulur.\n",
    "Böylece model veriyi daha iyi anlar ve tahmin yeteneği artar.\n",
    "\"\"\"\n",
    "\n",
    "# 'Date(TS)' sütununu tarih ve saat olarak ayır\n",
    "data[['Date', 'Time']] = data['Date(TS)'].str.split(expand=True)\n",
    "\n",
    "# 'Date' sütununu \"-\" karakteriyle bölerek ayları al\n",
    "data[['Day', 'Month', 'Year']] = data['Date'].str.split('-', expand=True)\n",
    "\n",
    "data['Month'] = data['Month'].astype(int)\n",
    "data['Year'] = data['Year'].astype(int)\n",
    "data['Hour'] = data['Time'].apply(lambda x: int(x[0:2]))\n",
    "data = data.drop('Time', axis=1)\n",
    "data = data.drop('Date(TS)', axis=1)"
   ]
  },
  {
   "cell_type": "code",
   "execution_count": 85,
   "id": "9e0bf7d4",
   "metadata": {},
   "outputs": [
    {
     "data": {
      "text/html": [
       "<div>\n",
       "<style scoped>\n",
       "    .dataframe tbody tr th:only-of-type {\n",
       "        vertical-align: middle;\n",
       "    }\n",
       "\n",
       "    .dataframe tbody tr th {\n",
       "        vertical-align: top;\n",
       "    }\n",
       "\n",
       "    .dataframe thead th {\n",
       "        text-align: right;\n",
       "    }\n",
       "</style>\n",
       "<table border=\"1\" class=\"dataframe\">\n",
       "  <thead>\n",
       "    <tr style=\"text-align: right;\">\n",
       "      <th></th>\n",
       "      <th>Latitude</th>\n",
       "      <th>Longitude</th>\n",
       "      <th>Depth</th>\n",
       "      <th>Magnitude</th>\n",
       "      <th>Location</th>\n",
       "      <th>Type_ML</th>\n",
       "      <th>Date</th>\n",
       "      <th>Day</th>\n",
       "      <th>Month</th>\n",
       "      <th>Year</th>\n",
       "      <th>Hour</th>\n",
       "    </tr>\n",
       "  </thead>\n",
       "  <tbody>\n",
       "    <tr>\n",
       "      <th>0</th>\n",
       "      <td>36.7533</td>\n",
       "      <td>31.9392</td>\n",
       "      <td>11.18</td>\n",
       "      <td>1.7</td>\n",
       "      <td>Alanya (Antalya)</td>\n",
       "      <td>True</td>\n",
       "      <td>19-12-2023</td>\n",
       "      <td>19</td>\n",
       "      <td>12</td>\n",
       "      <td>2023</td>\n",
       "      <td>15</td>\n",
       "    </tr>\n",
       "    <tr>\n",
       "      <th>1</th>\n",
       "      <td>40.0211</td>\n",
       "      <td>35.0383</td>\n",
       "      <td>7.00</td>\n",
       "      <td>1.5</td>\n",
       "      <td>Alaca (Çorum)</td>\n",
       "      <td>True</td>\n",
       "      <td>19-12-2023</td>\n",
       "      <td>19</td>\n",
       "      <td>12</td>\n",
       "      <td>2023</td>\n",
       "      <td>15</td>\n",
       "    </tr>\n",
       "    <tr>\n",
       "      <th>2</th>\n",
       "      <td>39.9367</td>\n",
       "      <td>39.3114</td>\n",
       "      <td>14.52</td>\n",
       "      <td>2.2</td>\n",
       "      <td>Kelkit (Gümüşhane)</td>\n",
       "      <td>True</td>\n",
       "      <td>19-12-2023</td>\n",
       "      <td>19</td>\n",
       "      <td>12</td>\n",
       "      <td>2023</td>\n",
       "      <td>15</td>\n",
       "    </tr>\n",
       "    <tr>\n",
       "      <th>3</th>\n",
       "      <td>38.2667</td>\n",
       "      <td>39.1936</td>\n",
       "      <td>7.22</td>\n",
       "      <td>1.9</td>\n",
       "      <td>Çüngüş (Diyarbakır)</td>\n",
       "      <td>True</td>\n",
       "      <td>19-12-2023</td>\n",
       "      <td>19</td>\n",
       "      <td>12</td>\n",
       "      <td>2023</td>\n",
       "      <td>15</td>\n",
       "    </tr>\n",
       "    <tr>\n",
       "      <th>4</th>\n",
       "      <td>38.1194</td>\n",
       "      <td>38.4828</td>\n",
       "      <td>7.00</td>\n",
       "      <td>1.0</td>\n",
       "      <td>Sincik (Adıyaman)</td>\n",
       "      <td>True</td>\n",
       "      <td>19-12-2023</td>\n",
       "      <td>19</td>\n",
       "      <td>12</td>\n",
       "      <td>2023</td>\n",
       "      <td>14</td>\n",
       "    </tr>\n",
       "    <tr>\n",
       "      <th>...</th>\n",
       "      <td>...</td>\n",
       "      <td>...</td>\n",
       "      <td>...</td>\n",
       "      <td>...</td>\n",
       "      <td>...</td>\n",
       "      <td>...</td>\n",
       "      <td>...</td>\n",
       "      <td>...</td>\n",
       "      <td>...</td>\n",
       "      <td>...</td>\n",
       "      <td>...</td>\n",
       "    </tr>\n",
       "    <tr>\n",
       "      <th>3335</th>\n",
       "      <td>37.3239</td>\n",
       "      <td>37.0428</td>\n",
       "      <td>8.14</td>\n",
       "      <td>1.7</td>\n",
       "      <td>Pazarcık (Kahramanmaraş)</td>\n",
       "      <td>True</td>\n",
       "      <td>19-12-2023</td>\n",
       "      <td>19</td>\n",
       "      <td>12</td>\n",
       "      <td>2023</td>\n",
       "      <td>0</td>\n",
       "    </tr>\n",
       "    <tr>\n",
       "      <th>3336</th>\n",
       "      <td>37.3258</td>\n",
       "      <td>37.0450</td>\n",
       "      <td>5.00</td>\n",
       "      <td>2.1</td>\n",
       "      <td>Pazarcık (Kahramanmaraş)</td>\n",
       "      <td>True</td>\n",
       "      <td>19-12-2023</td>\n",
       "      <td>19</td>\n",
       "      <td>12</td>\n",
       "      <td>2023</td>\n",
       "      <td>0</td>\n",
       "    </tr>\n",
       "    <tr>\n",
       "      <th>3337</th>\n",
       "      <td>39.9269</td>\n",
       "      <td>39.3019</td>\n",
       "      <td>12.39</td>\n",
       "      <td>2.7</td>\n",
       "      <td>Kelkit (Gümüşhane)</td>\n",
       "      <td>True</td>\n",
       "      <td>19-12-2023</td>\n",
       "      <td>19</td>\n",
       "      <td>12</td>\n",
       "      <td>2023</td>\n",
       "      <td>0</td>\n",
       "    </tr>\n",
       "    <tr>\n",
       "      <th>3338</th>\n",
       "      <td>39.9258</td>\n",
       "      <td>39.3258</td>\n",
       "      <td>7.05</td>\n",
       "      <td>1.6</td>\n",
       "      <td>Kelkit (Gümüşhane)</td>\n",
       "      <td>True</td>\n",
       "      <td>19-12-2023</td>\n",
       "      <td>19</td>\n",
       "      <td>12</td>\n",
       "      <td>2023</td>\n",
       "      <td>0</td>\n",
       "    </tr>\n",
       "    <tr>\n",
       "      <th>3339</th>\n",
       "      <td>39.9208</td>\n",
       "      <td>39.2883</td>\n",
       "      <td>7.03</td>\n",
       "      <td>1.8</td>\n",
       "      <td>Kelkit (Gümüşhane)</td>\n",
       "      <td>True</td>\n",
       "      <td>19-12-2023</td>\n",
       "      <td>19</td>\n",
       "      <td>12</td>\n",
       "      <td>2023</td>\n",
       "      <td>0</td>\n",
       "    </tr>\n",
       "  </tbody>\n",
       "</table>\n",
       "<p>3340 rows × 11 columns</p>\n",
       "</div>"
      ],
      "text/plain": [
       "      Latitude  Longitude  Depth  Magnitude                  Location  \\\n",
       "0      36.7533    31.9392  11.18        1.7          Alanya (Antalya)   \n",
       "1      40.0211    35.0383   7.00        1.5             Alaca (Çorum)   \n",
       "2      39.9367    39.3114  14.52        2.2        Kelkit (Gümüşhane)   \n",
       "3      38.2667    39.1936   7.22        1.9       Çüngüş (Diyarbakır)   \n",
       "4      38.1194    38.4828   7.00        1.0         Sincik (Adıyaman)   \n",
       "...        ...        ...    ...        ...                       ...   \n",
       "3335   37.3239    37.0428   8.14        1.7  Pazarcık (Kahramanmaraş)   \n",
       "3336   37.3258    37.0450   5.00        2.1  Pazarcık (Kahramanmaraş)   \n",
       "3337   39.9269    39.3019  12.39        2.7        Kelkit (Gümüşhane)   \n",
       "3338   39.9258    39.3258   7.05        1.6        Kelkit (Gümüşhane)   \n",
       "3339   39.9208    39.2883   7.03        1.8        Kelkit (Gümüşhane)   \n",
       "\n",
       "      Type_ML        Date Day  Month  Year  Hour  \n",
       "0        True  19-12-2023  19     12  2023    15  \n",
       "1        True  19-12-2023  19     12  2023    15  \n",
       "2        True  19-12-2023  19     12  2023    15  \n",
       "3        True  19-12-2023  19     12  2023    15  \n",
       "4        True  19-12-2023  19     12  2023    14  \n",
       "...       ...         ...  ..    ...   ...   ...  \n",
       "3335     True  19-12-2023  19     12  2023     0  \n",
       "3336     True  19-12-2023  19     12  2023     0  \n",
       "3337     True  19-12-2023  19     12  2023     0  \n",
       "3338     True  19-12-2023  19     12  2023     0  \n",
       "3339     True  19-12-2023  19     12  2023     0  \n",
       "\n",
       "[3340 rows x 11 columns]"
      ]
     },
     "execution_count": 85,
     "metadata": {},
     "output_type": "execute_result"
    }
   ],
   "source": [
    "data"
   ]
  },
  {
   "cell_type": "code",
   "execution_count": 86,
   "id": "98b44a7f",
   "metadata": {},
   "outputs": [],
   "source": [
    "data = data.drop('Date', axis=1)"
   ]
  },
  {
   "cell_type": "code",
   "execution_count": 87,
   "id": "e20c9590",
   "metadata": {},
   "outputs": [
    {
     "data": {
      "text/html": [
       "<div>\n",
       "<style scoped>\n",
       "    .dataframe tbody tr th:only-of-type {\n",
       "        vertical-align: middle;\n",
       "    }\n",
       "\n",
       "    .dataframe tbody tr th {\n",
       "        vertical-align: top;\n",
       "    }\n",
       "\n",
       "    .dataframe thead th {\n",
       "        text-align: right;\n",
       "    }\n",
       "</style>\n",
       "<table border=\"1\" class=\"dataframe\">\n",
       "  <thead>\n",
       "    <tr style=\"text-align: right;\">\n",
       "      <th></th>\n",
       "      <th>Latitude</th>\n",
       "      <th>Longitude</th>\n",
       "      <th>Depth</th>\n",
       "      <th>Magnitude</th>\n",
       "      <th>Location</th>\n",
       "      <th>Type_ML</th>\n",
       "      <th>Day</th>\n",
       "      <th>Month</th>\n",
       "      <th>Year</th>\n",
       "      <th>Hour</th>\n",
       "    </tr>\n",
       "  </thead>\n",
       "  <tbody>\n",
       "    <tr>\n",
       "      <th>0</th>\n",
       "      <td>36.7533</td>\n",
       "      <td>31.9392</td>\n",
       "      <td>11.18</td>\n",
       "      <td>1.7</td>\n",
       "      <td>Alanya (Antalya)</td>\n",
       "      <td>True</td>\n",
       "      <td>19</td>\n",
       "      <td>12</td>\n",
       "      <td>2023</td>\n",
       "      <td>15</td>\n",
       "    </tr>\n",
       "    <tr>\n",
       "      <th>1</th>\n",
       "      <td>40.0211</td>\n",
       "      <td>35.0383</td>\n",
       "      <td>7.00</td>\n",
       "      <td>1.5</td>\n",
       "      <td>Alaca (Çorum)</td>\n",
       "      <td>True</td>\n",
       "      <td>19</td>\n",
       "      <td>12</td>\n",
       "      <td>2023</td>\n",
       "      <td>15</td>\n",
       "    </tr>\n",
       "    <tr>\n",
       "      <th>2</th>\n",
       "      <td>39.9367</td>\n",
       "      <td>39.3114</td>\n",
       "      <td>14.52</td>\n",
       "      <td>2.2</td>\n",
       "      <td>Kelkit (Gümüşhane)</td>\n",
       "      <td>True</td>\n",
       "      <td>19</td>\n",
       "      <td>12</td>\n",
       "      <td>2023</td>\n",
       "      <td>15</td>\n",
       "    </tr>\n",
       "    <tr>\n",
       "      <th>3</th>\n",
       "      <td>38.2667</td>\n",
       "      <td>39.1936</td>\n",
       "      <td>7.22</td>\n",
       "      <td>1.9</td>\n",
       "      <td>Çüngüş (Diyarbakır)</td>\n",
       "      <td>True</td>\n",
       "      <td>19</td>\n",
       "      <td>12</td>\n",
       "      <td>2023</td>\n",
       "      <td>15</td>\n",
       "    </tr>\n",
       "    <tr>\n",
       "      <th>4</th>\n",
       "      <td>38.1194</td>\n",
       "      <td>38.4828</td>\n",
       "      <td>7.00</td>\n",
       "      <td>1.0</td>\n",
       "      <td>Sincik (Adıyaman)</td>\n",
       "      <td>True</td>\n",
       "      <td>19</td>\n",
       "      <td>12</td>\n",
       "      <td>2023</td>\n",
       "      <td>14</td>\n",
       "    </tr>\n",
       "    <tr>\n",
       "      <th>...</th>\n",
       "      <td>...</td>\n",
       "      <td>...</td>\n",
       "      <td>...</td>\n",
       "      <td>...</td>\n",
       "      <td>...</td>\n",
       "      <td>...</td>\n",
       "      <td>...</td>\n",
       "      <td>...</td>\n",
       "      <td>...</td>\n",
       "      <td>...</td>\n",
       "    </tr>\n",
       "    <tr>\n",
       "      <th>3335</th>\n",
       "      <td>37.3239</td>\n",
       "      <td>37.0428</td>\n",
       "      <td>8.14</td>\n",
       "      <td>1.7</td>\n",
       "      <td>Pazarcık (Kahramanmaraş)</td>\n",
       "      <td>True</td>\n",
       "      <td>19</td>\n",
       "      <td>12</td>\n",
       "      <td>2023</td>\n",
       "      <td>0</td>\n",
       "    </tr>\n",
       "    <tr>\n",
       "      <th>3336</th>\n",
       "      <td>37.3258</td>\n",
       "      <td>37.0450</td>\n",
       "      <td>5.00</td>\n",
       "      <td>2.1</td>\n",
       "      <td>Pazarcık (Kahramanmaraş)</td>\n",
       "      <td>True</td>\n",
       "      <td>19</td>\n",
       "      <td>12</td>\n",
       "      <td>2023</td>\n",
       "      <td>0</td>\n",
       "    </tr>\n",
       "    <tr>\n",
       "      <th>3337</th>\n",
       "      <td>39.9269</td>\n",
       "      <td>39.3019</td>\n",
       "      <td>12.39</td>\n",
       "      <td>2.7</td>\n",
       "      <td>Kelkit (Gümüşhane)</td>\n",
       "      <td>True</td>\n",
       "      <td>19</td>\n",
       "      <td>12</td>\n",
       "      <td>2023</td>\n",
       "      <td>0</td>\n",
       "    </tr>\n",
       "    <tr>\n",
       "      <th>3338</th>\n",
       "      <td>39.9258</td>\n",
       "      <td>39.3258</td>\n",
       "      <td>7.05</td>\n",
       "      <td>1.6</td>\n",
       "      <td>Kelkit (Gümüşhane)</td>\n",
       "      <td>True</td>\n",
       "      <td>19</td>\n",
       "      <td>12</td>\n",
       "      <td>2023</td>\n",
       "      <td>0</td>\n",
       "    </tr>\n",
       "    <tr>\n",
       "      <th>3339</th>\n",
       "      <td>39.9208</td>\n",
       "      <td>39.2883</td>\n",
       "      <td>7.03</td>\n",
       "      <td>1.8</td>\n",
       "      <td>Kelkit (Gümüşhane)</td>\n",
       "      <td>True</td>\n",
       "      <td>19</td>\n",
       "      <td>12</td>\n",
       "      <td>2023</td>\n",
       "      <td>0</td>\n",
       "    </tr>\n",
       "  </tbody>\n",
       "</table>\n",
       "<p>3340 rows × 10 columns</p>\n",
       "</div>"
      ],
      "text/plain": [
       "      Latitude  Longitude  Depth  Magnitude                  Location  \\\n",
       "0      36.7533    31.9392  11.18        1.7          Alanya (Antalya)   \n",
       "1      40.0211    35.0383   7.00        1.5             Alaca (Çorum)   \n",
       "2      39.9367    39.3114  14.52        2.2        Kelkit (Gümüşhane)   \n",
       "3      38.2667    39.1936   7.22        1.9       Çüngüş (Diyarbakır)   \n",
       "4      38.1194    38.4828   7.00        1.0         Sincik (Adıyaman)   \n",
       "...        ...        ...    ...        ...                       ...   \n",
       "3335   37.3239    37.0428   8.14        1.7  Pazarcık (Kahramanmaraş)   \n",
       "3336   37.3258    37.0450   5.00        2.1  Pazarcık (Kahramanmaraş)   \n",
       "3337   39.9269    39.3019  12.39        2.7        Kelkit (Gümüşhane)   \n",
       "3338   39.9258    39.3258   7.05        1.6        Kelkit (Gümüşhane)   \n",
       "3339   39.9208    39.2883   7.03        1.8        Kelkit (Gümüşhane)   \n",
       "\n",
       "      Type_ML Day  Month  Year  Hour  \n",
       "0        True  19     12  2023    15  \n",
       "1        True  19     12  2023    15  \n",
       "2        True  19     12  2023    15  \n",
       "3        True  19     12  2023    15  \n",
       "4        True  19     12  2023    14  \n",
       "...       ...  ..    ...   ...   ...  \n",
       "3335     True  19     12  2023     0  \n",
       "3336     True  19     12  2023     0  \n",
       "3337     True  19     12  2023     0  \n",
       "3338     True  19     12  2023     0  \n",
       "3339     True  19     12  2023     0  \n",
       "\n",
       "[3340 rows x 10 columns]"
      ]
     },
     "execution_count": 87,
     "metadata": {},
     "output_type": "execute_result"
    }
   ],
   "source": [
    "data"
   ]
  },
  {
   "cell_type": "markdown",
   "id": "57238aca",
   "metadata": {},
   "source": [
    "Pearson Korelasyonu:\n",
    "Pearson korelasyonu iki değişken arasındaki lineer ilişkiyi ölçen bir istatistiksel ölçüdür.\n",
    "İki değişken arasındaki ilişkinin ne kadar güçlü ve hangi yönde olduğunu belirlemek için kullanılır.\n",
    "Pearson korelasyon katsayısı, -1 ile 1 arasında bir değer alır:\n",
    "1'e yaklaşan bir değer, iki değişken arasında pozitif bir lineer ilişki olduğunu gösterir. \n",
    "Yani, bir değişken artarken diğer değişken de artar.\n",
    "-1'e yaklaşan bir değer, iki değişken arasında negatif bir lineer ilişki olduğunu gösterir. \n",
    "Yani, bir değişken artarken diğer değişken azalır.\n",
    "0'a yaklaşan bir değer, iki değişken arasında bir lineer ilişki olmadığını gösterir.\n",
    "Ancak bu değer sıfır olabilir ama lineer bir ilişki olmayabilir.\n",
    "İki değişken arasında başka bir tür ilişki olabilir.\n"
   ]
  },
  {
   "cell_type": "markdown",
   "id": "7cdbcec2",
   "metadata": {},
   "source": [
    "# VISULATION"
   ]
  },
  {
   "cell_type": "code",
   "execution_count": 88,
   "id": "cb695d17",
   "metadata": {},
   "outputs": [],
   "source": [
    " #sayısal değerler içeren sutunlar seçilmektedir ki yapacağımız visulation işlemlerinde direkt olarak kullanabilelim.\n",
    "numeric_columns = [column for column in data.columns if data.dtypes[column] != 'object' and data[column].dtype != 'bool']\n"
   ]
  },
  {
   "cell_type": "code",
   "execution_count": 89,
   "id": "0351b478",
   "metadata": {},
   "outputs": [
    {
     "data": {
      "text/plain": [
       "['Latitude', 'Longitude', 'Depth', 'Magnitude', 'Month', 'Year', 'Hour']"
      ]
     },
     "execution_count": 89,
     "metadata": {},
     "output_type": "execute_result"
    }
   ],
   "source": [
    "numeric_columns"
   ]
  },
  {
   "cell_type": "code",
   "execution_count": 90,
   "id": "59953870",
   "metadata": {},
   "outputs": [],
   "source": [
    "columns=['Latitude', 'Longitude', 'Depth', 'Magnitude']"
   ]
  },
  {
   "cell_type": "code",
   "execution_count": 91,
   "id": "1ddea649",
   "metadata": {},
   "outputs": [],
   "source": [
    "def plt_histogram (column, colors):\n",
    "    plt.figure(figsize=(11,5))\n",
    "    plt.hist(data[column], color=colors , bins=100)\n",
    "    plt.xlabel(column)\n",
    "    plt.ylabel(\"Frequency\")\n",
    "    plt.title(\"{}.distrubiton with histogram \".format(column))\n",
    "    plt.show()"
   ]
  },
  {
   "cell_type": "code",
   "execution_count": 92,
   "id": "5d140f34",
   "metadata": {},
   "outputs": [],
   "source": [
    "colors= [\"red\", \"yellow\", \"blue\" , \"brown\" , \"pink\"]"
   ]
  },
  {
   "cell_type": "code",
   "execution_count": 93,
   "id": "ceccd26e",
   "metadata": {},
   "outputs": [
    {
     "data": {
      "image/png": "[encoded data removed]",
      "text/plain": [
       "<Figure size 1100x500 with 1 Axes>"
      ]
     },
     "metadata": {},
     "output_type": "display_data"
    }
   ],
   "source": [
    "plt_histogram(numeric_columns[0],colors[0])"
   ]
  },
  {
   "cell_type": "code",
   "execution_count": 94,
   "id": "8b097259",
   "metadata": {},
   "outputs": [
    {
     "data": {
      "image/png": "[encoded data removed]",
      "text/plain": [
       "<Figure size 1100x500 with 1 Axes>"
      ]
     },
     "metadata": {},
     "output_type": "display_data"
    }
   ],
   "source": [
    "plt_histogram(numeric_columns[1],colors[1])"
   ]
  },
  {
   "cell_type": "code",
   "execution_count": 95,
   "id": "2f8b6b92",
   "metadata": {},
   "outputs": [
    {
     "data": {
      "image/png": "[encoded data removed]",
      "text/plain": [
       "<Figure size 1100x500 with 1 Axes>"
      ]
     },
     "metadata": {},
     "output_type": "display_data"
    }
   ],
   "source": [
    "plt_histogram(numeric_columns[2],colors[2])"
   ]
  },
  {
   "cell_type": "code",
   "execution_count": 96,
   "id": "2675bd85",
   "metadata": {},
   "outputs": [
    {
     "data": {
      "image/png": "[encoded data removed]",
      "text/plain": [
       "<Figure size 1100x500 with 1 Axes>"
      ]
     },
     "metadata": {},
     "output_type": "display_data"
    }
   ],
   "source": [
    "plt_histogram(numeric_columns[3],colors[3])"
   ]
  },
  {
   "cell_type": "code",
   "execution_count": 97,
   "id": "ced0300d",
   "metadata": {
    "scrolled": true
   },
   "outputs": [
    {
     "data": {
      "image/png": "[encoded data removed]",
      "text/plain": [
       "<Figure size 500x300 with 2 Axes>"
      ]
     },
     "metadata": {},
     "output_type": "display_data"
    }
   ],
   "source": [
    " #corr fonksiyonu sütunlar arasındaki Pearson korelasyon katsayılarını içeren bir matris döndürür.\n",
    "corr = data[columns].corr()\n",
    " #10 birim genişlik 8 birim yüksekliğe sahip bir şekil oluşturuldu.\n",
    "plt.figure(figsize=(5,3)) \n",
    " #ısı haritası (heatmap) oluşturur. corr matrisi heatmap'e iletilir ve annot=True parametresi, korelasyon katsayılarının heatmap üzerinde görüntülenmesini sağlar. vmin ve vmax parametreleri, renk skalasının minimum ve maksimum değerlerini belirtir.\n",
    "sns.heatmap(corr, annot=True, vmin=-1.0, vmax=1.0)\n",
    "plt.show()"
   ]
  },
  {
   "cell_type": "code",
   "execution_count": 98,
   "id": "443c01ad",
   "metadata": {
    "scrolled": false
   },
   "outputs": [
    {
     "data": {
      "image/png": "[encoded data removed]",
      "text/plain": [
       "<Figure size 1000x800 with 1 Axes>"
      ]
     },
     "metadata": {},
     "output_type": "display_data"
    }
   ],
   "source": [
    "scaler = StandardScaler() #veriyi ölçeklendirmek için nesne oluşturulur.\n",
    "#fit_transform metoduyla verinin her bir özelliği (sutunu) standartlaştırılır. Ortalama sıfır ve standart sapma bir olan bir standart normal dağılıma dönüştürür\n",
    "standardized_df = pd.DataFrame(scaler.fit_transform(data[numeric_columns].copy()), columns=numeric_columns)\n",
    "plt.figure(figsize=(10,8))\n",
    "for column in numeric_columns:\n",
    "    sns.kdeplot(standardized_df[column], fill=True ,label=column, warn_singular=False)\n",
    "plt.xlim(-4,4)\n",
    "plt.legend()  # Etkiketleri göstermek için\n",
    "plt.show()"
   ]
  },
  {
   "cell_type": "code",
   "execution_count": 99,
   "id": "2defe7fa",
   "metadata": {},
   "outputs": [
    {
     "data": {
      "text/html": [
       "<div>\n",
       "<style scoped>\n",
       "    .dataframe tbody tr th:only-of-type {\n",
       "        vertical-align: middle;\n",
       "    }\n",
       "\n",
       "    .dataframe tbody tr th {\n",
       "        vertical-align: top;\n",
       "    }\n",
       "\n",
       "    .dataframe thead th {\n",
       "        text-align: right;\n",
       "    }\n",
       "</style>\n",
       "<table border=\"1\" class=\"dataframe\">\n",
       "  <thead>\n",
       "    <tr style=\"text-align: right;\">\n",
       "      <th></th>\n",
       "      <th>Depth</th>\n",
       "      <th>Magnitude</th>\n",
       "    </tr>\n",
       "  </thead>\n",
       "  <tbody>\n",
       "    <tr>\n",
       "      <th>33</th>\n",
       "      <td>12.39</td>\n",
       "      <td>2.700000</td>\n",
       "    </tr>\n",
       "    <tr>\n",
       "      <th>17</th>\n",
       "      <td>7.03</td>\n",
       "      <td>2.355769</td>\n",
       "    </tr>\n",
       "    <tr>\n",
       "      <th>20</th>\n",
       "      <td>7.11</td>\n",
       "      <td>2.300000</td>\n",
       "    </tr>\n",
       "    <tr>\n",
       "      <th>35</th>\n",
       "      <td>14.52</td>\n",
       "      <td>2.200000</td>\n",
       "    </tr>\n",
       "    <tr>\n",
       "      <th>2</th>\n",
       "      <td>5.00</td>\n",
       "      <td>2.100000</td>\n",
       "    </tr>\n",
       "    <tr>\n",
       "      <th>36</th>\n",
       "      <td>15.29</td>\n",
       "      <td>2.000000</td>\n",
       "    </tr>\n",
       "    <tr>\n",
       "      <th>26</th>\n",
       "      <td>8.59</td>\n",
       "      <td>2.000000</td>\n",
       "    </tr>\n",
       "    <tr>\n",
       "      <th>12</th>\n",
       "      <td>6.97</td>\n",
       "      <td>1.900000</td>\n",
       "    </tr>\n",
       "    <tr>\n",
       "      <th>15</th>\n",
       "      <td>7.01</td>\n",
       "      <td>1.900000</td>\n",
       "    </tr>\n",
       "    <tr>\n",
       "      <th>37</th>\n",
       "      <td>16.58</td>\n",
       "      <td>1.900000</td>\n",
       "    </tr>\n",
       "    <tr>\n",
       "      <th>22</th>\n",
       "      <td>7.22</td>\n",
       "      <td>1.900000</td>\n",
       "    </tr>\n",
       "    <tr>\n",
       "      <th>18</th>\n",
       "      <td>7.04</td>\n",
       "      <td>1.900000</td>\n",
       "    </tr>\n",
       "    <tr>\n",
       "      <th>24</th>\n",
       "      <td>7.50</td>\n",
       "      <td>1.900000</td>\n",
       "    </tr>\n",
       "    <tr>\n",
       "      <th>25</th>\n",
       "      <td>8.14</td>\n",
       "      <td>1.700000</td>\n",
       "    </tr>\n",
       "    <tr>\n",
       "      <th>31</th>\n",
       "      <td>11.18</td>\n",
       "      <td>1.700000</td>\n",
       "    </tr>\n",
       "    <tr>\n",
       "      <th>10</th>\n",
       "      <td>6.95</td>\n",
       "      <td>1.700000</td>\n",
       "    </tr>\n",
       "    <tr>\n",
       "      <th>5</th>\n",
       "      <td>5.75</td>\n",
       "      <td>1.700000</td>\n",
       "    </tr>\n",
       "    <tr>\n",
       "      <th>19</th>\n",
       "      <td>7.05</td>\n",
       "      <td>1.600000</td>\n",
       "    </tr>\n",
       "    <tr>\n",
       "      <th>14</th>\n",
       "      <td>7.00</td>\n",
       "      <td>1.508913</td>\n",
       "    </tr>\n",
       "    <tr>\n",
       "      <th>28</th>\n",
       "      <td>10.00</td>\n",
       "      <td>1.500000</td>\n",
       "    </tr>\n",
       "    <tr>\n",
       "      <th>32</th>\n",
       "      <td>11.63</td>\n",
       "      <td>1.500000</td>\n",
       "    </tr>\n",
       "    <tr>\n",
       "      <th>6</th>\n",
       "      <td>6.75</td>\n",
       "      <td>1.500000</td>\n",
       "    </tr>\n",
       "    <tr>\n",
       "      <th>8</th>\n",
       "      <td>6.93</td>\n",
       "      <td>1.450000</td>\n",
       "    </tr>\n",
       "    <tr>\n",
       "      <th>27</th>\n",
       "      <td>8.69</td>\n",
       "      <td>1.400000</td>\n",
       "    </tr>\n",
       "    <tr>\n",
       "      <th>0</th>\n",
       "      <td>4.18</td>\n",
       "      <td>1.400000</td>\n",
       "    </tr>\n",
       "    <tr>\n",
       "      <th>13</th>\n",
       "      <td>6.98</td>\n",
       "      <td>1.400000</td>\n",
       "    </tr>\n",
       "    <tr>\n",
       "      <th>9</th>\n",
       "      <td>6.94</td>\n",
       "      <td>1.400000</td>\n",
       "    </tr>\n",
       "    <tr>\n",
       "      <th>3</th>\n",
       "      <td>5.51</td>\n",
       "      <td>1.400000</td>\n",
       "    </tr>\n",
       "    <tr>\n",
       "      <th>21</th>\n",
       "      <td>7.14</td>\n",
       "      <td>1.300000</td>\n",
       "    </tr>\n",
       "    <tr>\n",
       "      <th>16</th>\n",
       "      <td>7.02</td>\n",
       "      <td>1.300000</td>\n",
       "    </tr>\n",
       "    <tr>\n",
       "      <th>11</th>\n",
       "      <td>6.96</td>\n",
       "      <td>1.300000</td>\n",
       "    </tr>\n",
       "    <tr>\n",
       "      <th>34</th>\n",
       "      <td>12.55</td>\n",
       "      <td>1.200000</td>\n",
       "    </tr>\n",
       "    <tr>\n",
       "      <th>1</th>\n",
       "      <td>4.64</td>\n",
       "      <td>1.100000</td>\n",
       "    </tr>\n",
       "    <tr>\n",
       "      <th>30</th>\n",
       "      <td>10.40</td>\n",
       "      <td>1.100000</td>\n",
       "    </tr>\n",
       "    <tr>\n",
       "      <th>23</th>\n",
       "      <td>7.29</td>\n",
       "      <td>1.000000</td>\n",
       "    </tr>\n",
       "    <tr>\n",
       "      <th>29</th>\n",
       "      <td>10.09</td>\n",
       "      <td>1.000000</td>\n",
       "    </tr>\n",
       "    <tr>\n",
       "      <th>4</th>\n",
       "      <td>5.68</td>\n",
       "      <td>0.900000</td>\n",
       "    </tr>\n",
       "    <tr>\n",
       "      <th>38</th>\n",
       "      <td>23.39</td>\n",
       "      <td>0.900000</td>\n",
       "    </tr>\n",
       "    <tr>\n",
       "      <th>7</th>\n",
       "      <td>6.92</td>\n",
       "      <td>0.700000</td>\n",
       "    </tr>\n",
       "  </tbody>\n",
       "</table>\n",
       "</div>"
      ],
      "text/plain": [
       "    Depth  Magnitude\n",
       "33  12.39   2.700000\n",
       "17   7.03   2.355769\n",
       "20   7.11   2.300000\n",
       "35  14.52   2.200000\n",
       "2    5.00   2.100000\n",
       "36  15.29   2.000000\n",
       "26   8.59   2.000000\n",
       "12   6.97   1.900000\n",
       "15   7.01   1.900000\n",
       "37  16.58   1.900000\n",
       "22   7.22   1.900000\n",
       "18   7.04   1.900000\n",
       "24   7.50   1.900000\n",
       "25   8.14   1.700000\n",
       "31  11.18   1.700000\n",
       "10   6.95   1.700000\n",
       "5    5.75   1.700000\n",
       "19   7.05   1.600000\n",
       "14   7.00   1.508913\n",
       "28  10.00   1.500000\n",
       "32  11.63   1.500000\n",
       "6    6.75   1.500000\n",
       "8    6.93   1.450000\n",
       "27   8.69   1.400000\n",
       "0    4.18   1.400000\n",
       "13   6.98   1.400000\n",
       "9    6.94   1.400000\n",
       "3    5.51   1.400000\n",
       "21   7.14   1.300000\n",
       "16   7.02   1.300000\n",
       "11   6.96   1.300000\n",
       "34  12.55   1.200000\n",
       "1    4.64   1.100000\n",
       "30  10.40   1.100000\n",
       "23   7.29   1.000000\n",
       "29  10.09   1.000000\n",
       "4    5.68   0.900000\n",
       "38  23.39   0.900000\n",
       "7    6.92   0.700000"
      ]
     },
     "execution_count": 99,
     "metadata": {},
     "output_type": "execute_result"
    }
   ],
   "source": [
    "#derinlik seviyelerine göre deprem büyüklüklerinin ortalamalarını incelenmektedir.\n",
    "\n",
    "df = data[[\"Depth\",\"Magnitude\"]].groupby([\"Depth\"], as_index = False).mean().sort_values(by= \"Magnitude\", ascending=False)\n",
    "df"
   ]
  },
  {
   "cell_type": "code",
   "execution_count": 100,
   "id": "a1af4e38",
   "metadata": {},
   "outputs": [
    {
     "data": {
      "text/html": [
       "<div>\n",
       "<style scoped>\n",
       "    .dataframe tbody tr th:only-of-type {\n",
       "        vertical-align: middle;\n",
       "    }\n",
       "\n",
       "    .dataframe tbody tr th {\n",
       "        vertical-align: top;\n",
       "    }\n",
       "\n",
       "    .dataframe thead th {\n",
       "        text-align: right;\n",
       "    }\n",
       "</style>\n",
       "<table border=\"1\" class=\"dataframe\">\n",
       "  <thead>\n",
       "    <tr style=\"text-align: right;\">\n",
       "      <th></th>\n",
       "      <th>Magnitude</th>\n",
       "      <th>Latitude</th>\n",
       "      <th>Longitude</th>\n",
       "    </tr>\n",
       "  </thead>\n",
       "  <tbody>\n",
       "    <tr>\n",
       "      <th>4</th>\n",
       "      <td>2.7</td>\n",
       "      <td>39.926900</td>\n",
       "      <td>39.301900</td>\n",
       "    </tr>\n",
       "    <tr>\n",
       "      <th>3</th>\n",
       "      <td>2.6</td>\n",
       "      <td>38.319400</td>\n",
       "      <td>44.722800</td>\n",
       "    </tr>\n",
       "    <tr>\n",
       "      <th>2</th>\n",
       "      <td>2.3</td>\n",
       "      <td>38.273900</td>\n",
       "      <td>38.250400</td>\n",
       "    </tr>\n",
       "    <tr>\n",
       "      <th>1</th>\n",
       "      <td>2.2</td>\n",
       "      <td>39.936700</td>\n",
       "      <td>39.311400</td>\n",
       "    </tr>\n",
       "    <tr>\n",
       "      <th>0</th>\n",
       "      <td>2.1</td>\n",
       "      <td>37.867013</td>\n",
       "      <td>38.004537</td>\n",
       "    </tr>\n",
       "  </tbody>\n",
       "</table>\n",
       "</div>"
      ],
      "text/plain": [
       "   Magnitude   Latitude  Longitude\n",
       "4        2.7  39.926900  39.301900\n",
       "3        2.6  38.319400  44.722800\n",
       "2        2.3  38.273900  38.250400\n",
       "1        2.2  39.936700  39.311400\n",
       "0        2.1  37.867013  38.004537"
      ]
     },
     "execution_count": 100,
     "metadata": {},
     "output_type": "execute_result"
    }
   ],
   "source": [
    "\"\"\"\n",
    "magnitude eşik değeri 2 olarak belirlenmiştir. \n",
    "data[mwfilter] ile sadece 2'den büyük değerler filtrelenerek seçilir ve \n",
    "ona karşılık gelen Latitude ve Longitude sutunlarındaki değerler seçilir.\n",
    "\n",
    "\"\"\"\n",
    "mwfilter = data[\"Magnitude\"] > 2\n",
    "data[mwfilter][[\"Latitude\", \"Longitude\", \"Magnitude\"]].groupby([\"Magnitude\"], as_index=False).mean().sort_values(by = \"Magnitude\", ascending=False)"
   ]
  },
  {
   "cell_type": "code",
   "execution_count": 101,
   "id": "b8b77517",
   "metadata": {},
   "outputs": [
    {
     "data": {
      "text/plain": [
       "384"
      ]
     },
     "execution_count": 101,
     "metadata": {},
     "output_type": "execute_result"
    }
   ],
   "source": [
    "mw_two = data[data[\"Magnitude\"] > 2].count().iloc[0]\n",
    "mw_two"
   ]
  },
  {
   "cell_type": "markdown",
   "id": "f93d9473",
   "metadata": {},
   "source": [
    "Box plot:\n",
    "Box plot kullanımı, veri setindeki dağılımın genel şeklini, merkezi eğilimi ve yayılımını anlamak için kullanılır. Box plotlar, özellikle gruplar arasındaki karşılaştırmalar yaparken,\n",
    "veri setlerindeki aykırı değerleri belirlemede ve genelde dağılım hakkında hızlı bir genel görünüm elde etmede kullanışlıdır."
   ]
  },
  {
   "cell_type": "code",
   "execution_count": 102,
   "id": "b5fbac92",
   "metadata": {},
   "outputs": [
    {
     "data": {
      "text/plain": [
       "<function matplotlib.pyplot.show(close=None, block=None)>"
      ]
     },
     "execution_count": 102,
     "metadata": {},
     "output_type": "execute_result"
    },
    {
     "data": {
      "image/png": "[encoded data removed]",
      "text/plain": [
       "<Figure size 640x480 with 1 Axes>"
      ]
     },
     "metadata": {},
     "output_type": "display_data"
    }
   ],
   "source": [
    "\"\"\"\n",
    "Deprem büyüklüklerinin medyanı, çeyrekler arası aralıkları,\n",
    "minimum ve maksimum değerleri, ve potansiyel aykırı değerleri görselleştirildi.\n",
    "\"\"\"\n",
    "sns.boxplot(x=data[\"Magnitude\"])\n",
    "plt.show"
   ]
  },
  {
   "cell_type": "code",
   "execution_count": 103,
   "id": "a4358046",
   "metadata": {},
   "outputs": [
    {
     "data": {
      "image/png": "[encoded data removed]",
      "text/plain": [
       "<Figure size 640x480 with 1 Axes>"
      ]
     },
     "metadata": {},
     "output_type": "display_data"
    }
   ],
   "source": [
    "#Longitude sütunundaki verilerin dağılımı ve olası aykırı değerleri görselleştirildi.\n",
    "sns.boxplot(y=data[\"Longitude\"])\n",
    "plt.show()"
   ]
  },
  {
   "cell_type": "code",
   "execution_count": 104,
   "id": "062cdfa4",
   "metadata": {},
   "outputs": [
    {
     "data": {
      "image/png": "[encoded data removed]",
      "text/plain": [
       "<Figure size 640x480 with 1 Axes>"
      ]
     },
     "metadata": {},
     "output_type": "display_data"
    }
   ],
   "source": [
    "sns.boxplot(y=data[\"Latitude\"])\n",
    "plt.show()"
   ]
  },
  {
   "cell_type": "code",
   "execution_count": 105,
   "id": "ab30c683",
   "metadata": {},
   "outputs": [
    {
     "data": {
      "image/png": "[encoded data removed]",
      "text/plain": [
       "<Figure size 640x480 with 1 Axes>"
      ]
     },
     "metadata": {},
     "output_type": "display_data"
    }
   ],
   "source": [
    "sns.boxplot(y=data[\"Depth\"])\n",
    "plt.show()"
   ]
  },
  {
   "cell_type": "code",
   "execution_count": 106,
   "id": "d06905e5",
   "metadata": {},
   "outputs": [
    {
     "data": {
      "image/png": "[encoded data removed]",
      "text/plain": [
       "<Figure size 640x480 with 1 Axes>"
      ]
     },
     "metadata": {},
     "output_type": "display_data"
    }
   ],
   "source": [
    "sns.boxplot(y=data[\"Hour\"])\n",
    "plt.show()"
   ]
  },
  {
   "cell_type": "code",
   "execution_count": 107,
   "id": "5eba58d4",
   "metadata": {},
   "outputs": [
    {
     "data": {
      "image/png": "[encoded data removed]",
      "text/plain": [
       "<Figure size 640x480 with 1 Axes>"
      ]
     },
     "metadata": {},
     "output_type": "display_data"
    }
   ],
   "source": [
    " \"\"\"\n",
    " Dağılım grafiği görselleştirmesi\n",
    " Longitude\" ve \"Latitude\" değerlerini kullanarak depremlerin büyüklüğünü (\"Magnitude\") renk aracılığıyla görselleştirmektir.\n",
    " Bu şekilde, coğrafi bölgelerdeki deprem büyüklüklerinin dağılımı hakkında bir anlayış elde edilebilir.\n",
    " \"\"\"\n",
    "\n",
    "sns.scatterplot(x=\"Longitude\", y=\"Latitude\", hue=\"Magnitude\", data=data)\n",
    "plt.show()"
   ]
  },
  {
   "cell_type": "code",
   "execution_count": 108,
   "id": "29e50641",
   "metadata": {},
   "outputs": [],
   "source": [
    "def outlier_detection(df,features):\n",
    "    outlier_value_index = []\n",
    "\n",
    "    for c in features:\n",
    "       print(\"*\"*20)\n",
    "       print(c)\n",
    "       print(\"*\"*20)\n",
    "\n",
    "       #first quartile\n",
    "       Q1 = np.percentile(df[c],25)\n",
    "       print(\"Q1 : \", Q1)\n",
    "\n",
    "       #third quartile\n",
    "       Q3 = np.percentile(df[c], 75)\n",
    "       print(\"Q3 : \", Q3)\n",
    "\n",
    "       #IQR\n",
    "       IQR = Q3 - Q1\n",
    "       print(\"IQR:\" , IQR)\n",
    "\n",
    "       #outlier step\n",
    "       outlier_step = IQR * 1.5\n",
    "\n",
    "       #detect outlier and their indeces\n",
    "       outlier_list_col = df[(df[c] < Q1 - outlier_step) | (df[c] > Q3 + outlier_step)].index\n",
    "\n",
    "       #store indeces\n",
    "       outlier_value_index.extend(outlier_list_col)\n",
    "\n",
    "       print(\"Lower Limit: Q1 - 1.5 * IQR : \", Q1 - 1.5 * IQR)\n",
    "       print(\"Upper Limit: Q3 + 1.5 * IQR : \", Q3 + 1.5 * IQR)\n",
    "       print(\"\\n\")\n",
    "\n",
    "    outlier_value_index = Counter(outlier_value_index)\n",
    "    multiple_outlier_values = list(i for i, v in outlier_value_index.items() if v > 2 )\n",
    "\n",
    "    return multiple_outlier_values"
   ]
  },
  {
   "cell_type": "code",
   "execution_count": 109,
   "id": "0eb2a336",
   "metadata": {},
   "outputs": [
    {
     "name": "stdout",
     "output_type": "stream",
     "text": [
      "********************\n",
      "Magnitude\n",
      "********************\n",
      "Q1 :  1.2\n",
      "Q3 :  1.9\n",
      "IQR: 0.7\n",
      "Lower Limit: Q1 - 1.5 * IQR :  0.15000000000000013\n",
      "Upper Limit: Q3 + 1.5 * IQR :  2.9499999999999997\n",
      "\n",
      "\n",
      "********************\n",
      "Depth\n",
      "********************\n",
      "Q1 :  6.98\n",
      "Q3 :  7.29\n",
      "IQR: 0.3099999999999996\n",
      "Lower Limit: Q1 - 1.5 * IQR :  6.515000000000001\n",
      "Upper Limit: Q3 + 1.5 * IQR :  7.754999999999999\n",
      "\n",
      "\n",
      "********************\n",
      "Latitude\n",
      "********************\n",
      "Q1 :  37.7992\n",
      "Q3 :  39.4689\n",
      "IQR: 1.6696999999999989\n",
      "Lower Limit: Q1 - 1.5 * IQR :  35.294650000000004\n",
      "Upper Limit: Q3 + 1.5 * IQR :  41.97345\n",
      "\n",
      "\n",
      "********************\n",
      "Longitude\n",
      "********************\n",
      "Q1 :  36.4014\n",
      "Q3 :  38.5386\n",
      "IQR: 2.1372\n",
      "Lower Limit: Q1 - 1.5 * IQR :  33.1956\n",
      "Upper Limit: Q3 + 1.5 * IQR :  41.7444\n",
      "\n",
      "\n",
      "Empty DataFrame\n",
      "Columns: [Latitude, Longitude, Depth, Magnitude, Location, Type_ML, Day, Month, Year, Hour]\n",
      "Index: []\n"
     ]
    }
   ],
   "source": [
    "outlier_values= data.loc[outlier_detection(data,[\"Magnitude\",\"Depth\",\"Latitude\",\"Longitude\"])]\n",
    "print(outlier_values)"
   ]
  },
  {
   "cell_type": "markdown",
   "id": "dc682303",
   "metadata": {},
   "source": [
    "Çıktı Değerlendirme: Yukarıdaki çıktıya göre Veri setinde bu sınırlar içinde aykırı bir hiçbir değer bulunmuyor."
   ]
  },
  {
   "cell_type": "code",
   "execution_count": 110,
   "id": "b2e22944",
   "metadata": {},
   "outputs": [
    {
     "name": "stdout",
     "output_type": "stream",
     "text": [
      "Latitude     0\n",
      "Longitude    0\n",
      "Depth        0\n",
      "Magnitude    0\n",
      "Location     0\n",
      "Type_ML      0\n",
      "Day          0\n",
      "Month        0\n",
      "Year         0\n",
      "Hour         0\n",
      "dtype: int64\n"
     ]
    }
   ],
   "source": [
    "print(data.isnull().sum())\n",
    "#veri setinde hiçbir şekilde eksik veri yoktur."
   ]
  },
  {
   "cell_type": "code",
   "execution_count": 111,
   "id": "89cbaf19",
   "metadata": {},
   "outputs": [
    {
     "data": {
      "image/png": "[encoded data removed]",
      "text/plain": [
       "<Figure size 640x480 with 1 Axes>"
      ]
     },
     "metadata": {},
     "output_type": "display_data"
    }
   ],
   "source": [
    "plt.scatter(data[\"Depth\"], data[\"Magnitude\"], color=\"purple\")\n",
    "plt.xlabel = \"Depth\"\n",
    "plt.ylabel = \"Magnitude\"\n",
    "plt.show()"
   ]
  },
  {
   "cell_type": "code",
   "execution_count": 112,
   "id": "78f0ef54",
   "metadata": {},
   "outputs": [
    {
     "data": {
      "image/png": "[encoded data removed]",
      "text/plain": [
       "<Figure size 640x480 with 1 Axes>"
      ]
     },
     "metadata": {},
     "output_type": "display_data"
    }
   ],
   "source": [
    "plt.scatter(data[\"Latitude\"], data[\"Magnitude\"], color=\"pink\")\n",
    "plt.xlabel = \"Latitude\"\n",
    "plt.ylabel = \"Magnitude\"\n",
    "plt.show()"
   ]
  },
  {
   "cell_type": "code",
   "execution_count": 113,
   "id": "a7d21565",
   "metadata": {},
   "outputs": [
    {
     "data": {
      "image/png": "[encoded data removed]",
      "text/plain": [
       "<Figure size 640x480 with 1 Axes>"
      ]
     },
     "metadata": {},
     "output_type": "display_data"
    }
   ],
   "source": [
    "plt.scatter(data[\"Longitude\"], data[\"Magnitude\"], color=\"red\")\n",
    "plt.xlabel = \"Longitude\"\n",
    "plt.ylabel = \"Magnitude\"\n",
    "plt.show()"
   ]
  },
  {
   "cell_type": "code",
   "execution_count": 114,
   "id": "c62a41eb",
   "metadata": {},
   "outputs": [
    {
     "name": "stdout",
     "output_type": "stream",
     "text": [
      "0       False\n",
      "1       False\n",
      "2        True\n",
      "3       False\n",
      "4       False\n",
      "        ...  \n",
      "3335    False\n",
      "3336     True\n",
      "3337     True\n",
      "3338    False\n",
      "3339    False\n",
      "Name: greater than two, Length: 3340, dtype: bool\n"
     ]
    }
   ],
   "source": [
    "def greater_than_two(Magnitude):\n",
    "    return(Magnitude>=2)\n",
    "data[\"greater than two\"]=data[\"Magnitude\"].apply(greater_than_two)\n",
    "print(data[\"greater than two\"])"
   ]
  },
  {
   "cell_type": "code",
   "execution_count": 115,
   "id": "e2f171f6",
   "metadata": {},
   "outputs": [
    {
     "data": {
      "image/png": "[encoded data removed]",
      "text/plain": [
       "<Figure size 640x480 with 1 Axes>"
      ]
     },
     "metadata": {},
     "output_type": "display_data"
    }
   ],
   "source": [
    "sns.countplot(x=\"greater than two\", data=data)\n",
    "plt.show()"
   ]
  },
  {
   "cell_type": "code",
   "execution_count": 116,
   "id": "015f841b",
   "metadata": {},
   "outputs": [
    {
     "name": "stdout",
     "output_type": "stream",
     "text": [
      "      Latitude  Longitude  Depth  Magnitude                  Location  \\\n",
      "0      36.7533    31.9392  11.18        1.7          Alanya (Antalya)   \n",
      "1      40.0211    35.0383   7.00        1.5             Alaca (Çorum)   \n",
      "2      39.9367    39.3114  14.52        2.2        Kelkit (Gümüşhane)   \n",
      "3      38.2667    39.1936   7.22        1.9       Çüngüş (Diyarbakır)   \n",
      "4      38.1194    38.4828   7.00        1.0         Sincik (Adıyaman)   \n",
      "...        ...        ...    ...        ...                       ...   \n",
      "3335   37.3239    37.0428   8.14        1.7  Pazarcık (Kahramanmaraş)   \n",
      "3336   37.3258    37.0450   5.00        2.1  Pazarcık (Kahramanmaraş)   \n",
      "3337   39.9269    39.3019  12.39        2.7        Kelkit (Gümüşhane)   \n",
      "3338   39.9258    39.3258   7.05        1.6        Kelkit (Gümüşhane)   \n",
      "3339   39.9208    39.2883   7.03        1.8        Kelkit (Gümüşhane)   \n",
      "\n",
      "      Type_ML Day  Month  Year  Hour  greater than two    Class  \n",
      "0        True  19     12  2023    15             False   Middle  \n",
      "1        True  19     12  2023    15             False  Shallow  \n",
      "2        True  19     12  2023    15              True   Middle  \n",
      "3        True  19     12  2023    15             False  Shallow  \n",
      "4        True  19     12  2023    14             False  Shallow  \n",
      "...       ...  ..    ...   ...   ...               ...      ...  \n",
      "3335     True  19     12  2023     0             False  Shallow  \n",
      "3336     True  19     12  2023     0              True  Shallow  \n",
      "3337     True  19     12  2023     0              True   Middle  \n",
      "3338     True  19     12  2023     0             False  Shallow  \n",
      "3339     True  19     12  2023     0             False  Shallow  \n",
      "\n",
      "[3340 rows x 12 columns]\n"
     ]
    }
   ],
   "source": [
    "data.loc[data[\"Depth\"]>=15,'Class'] = \"Deep\"\n",
    "data.loc[(data[\"Depth\"] >=10) & (data[\"Depth\"]<15) , 'Class'] = \"Middle\"\n",
    "data.loc[data[\"Depth\"]<10 , 'Class'] = \"Shallow\"\n",
    "print(data)"
   ]
  },
  {
   "cell_type": "code",
   "execution_count": 117,
   "id": "237f3f94",
   "metadata": {},
   "outputs": [
    {
     "data": {
      "image/png": "[encoded data removed]",
      "text/plain": [
       "<Figure size 640x480 with 1 Axes>"
      ]
     },
     "metadata": {},
     "output_type": "display_data"
    }
   ],
   "source": [
    "sns.countplot(x=\"Class\", data=data)\n",
    "plt.title(\"Magnitude Class Distribution\")\n",
    "plt.show()"
   ]
  },
  {
   "cell_type": "code",
   "execution_count": 118,
   "id": "309b5665",
   "metadata": {},
   "outputs": [
    {
     "name": "stdout",
     "output_type": "stream",
     "text": [
      "      Latitude  Longitude  Depth  Magnitude                  Location  \\\n",
      "0      36.7533    31.9392  11.18        1.7          Alanya (Antalya)   \n",
      "1      40.0211    35.0383   7.00        1.5             Alaca (Çorum)   \n",
      "2      39.9367    39.3114  14.52        2.2        Kelkit (Gümüşhane)   \n",
      "3      38.2667    39.1936   7.22        1.9       Çüngüş (Diyarbakır)   \n",
      "4      38.1194    38.4828   7.00        1.0         Sincik (Adıyaman)   \n",
      "...        ...        ...    ...        ...                       ...   \n",
      "3335   37.3239    37.0428   8.14        1.7  Pazarcık (Kahramanmaraş)   \n",
      "3336   37.3258    37.0450   5.00        2.1  Pazarcık (Kahramanmaraş)   \n",
      "3337   39.9269    39.3019  12.39        2.7        Kelkit (Gümüşhane)   \n",
      "3338   39.9258    39.3258   7.05        1.6        Kelkit (Gümüşhane)   \n",
      "3339   39.9208    39.2883   7.03        1.8        Kelkit (Gümüşhane)   \n",
      "\n",
      "      Type_ML Day  Month  Year  Hour  greater than two    Class  \\\n",
      "0        True  19     12  2023    15             False   Middle   \n",
      "1        True  19     12  2023    15             False  Shallow   \n",
      "2        True  19     12  2023    15              True   Middle   \n",
      "3        True  19     12  2023    15             False  Shallow   \n",
      "4        True  19     12  2023    14             False  Shallow   \n",
      "...       ...  ..    ...   ...   ...               ...      ...   \n",
      "3335     True  19     12  2023     0             False  Shallow   \n",
      "3336     True  19     12  2023     0              True  Shallow   \n",
      "3337     True  19     12  2023     0              True   Middle   \n",
      "3338     True  19     12  2023     0             False  Shallow   \n",
      "3339     True  19     12  2023     0             False  Shallow   \n",
      "\n",
      "                    destructiveness  \n",
      "0     no significant damage occours  \n",
      "1     no significant damage occours  \n",
      "2        high probability of damage  \n",
      "3     no significant damage occours  \n",
      "4     no significant damage occours  \n",
      "...                             ...  \n",
      "3335  no significant damage occours  \n",
      "3336     high probability of damage  \n",
      "3337     high probability of damage  \n",
      "3338  no significant damage occours  \n",
      "3339  no significant damage occours  \n",
      "\n",
      "[3340 rows x 13 columns]\n"
     ]
    }
   ],
   "source": [
    "data.loc[data[\"Magnitude\"] < 2, \"destructiveness\"] = \"no significant damage occours\"\n",
    "data.loc[data[\"Magnitude\"] >= 2, \"destructiveness\"] = \"high probability of damage\"\n",
    "print(data)"
   ]
  },
  {
   "cell_type": "code",
   "execution_count": 119,
   "id": "51391f59",
   "metadata": {},
   "outputs": [
    {
     "data": {
      "image/png": "[encoded data removed]",
      "text/plain": [
       "<Figure size 640x480 with 1 Axes>"
      ]
     },
     "metadata": {},
     "output_type": "display_data"
    }
   ],
   "source": [
    "sns.countplot(x = \"destructiveness\", data=data)\n",
    "plt.title(\"Büyüklük sınıfı vs sıklık\")\n",
    "plt.xticks(rotation = 90)\n",
    "plt.show()"
   ]
  },
  {
   "cell_type": "code",
   "execution_count": 120,
   "id": "890c6224",
   "metadata": {},
   "outputs": [
    {
     "name": "stdout",
     "output_type": "stream",
     "text": [
      "      Latitude  Longitude  Depth  Magnitude                  Location  \\\n",
      "0      36.7533    31.9392  11.18        1.7          Alanya (Antalya)   \n",
      "1      40.0211    35.0383   7.00        1.5             Alaca (Çorum)   \n",
      "2      39.9367    39.3114  14.52        2.2        Kelkit (Gümüşhane)   \n",
      "3      38.2667    39.1936   7.22        1.9       Çüngüş (Diyarbakır)   \n",
      "4      38.1194    38.4828   7.00        1.0         Sincik (Adıyaman)   \n",
      "...        ...        ...    ...        ...                       ...   \n",
      "3335   37.3239    37.0428   8.14        1.7  Pazarcık (Kahramanmaraş)   \n",
      "3336   37.3258    37.0450   5.00        2.1  Pazarcık (Kahramanmaraş)   \n",
      "3337   39.9269    39.3019  12.39        2.7        Kelkit (Gümüşhane)   \n",
      "3338   39.9258    39.3258   7.05        1.6        Kelkit (Gümüşhane)   \n",
      "3339   39.9208    39.2883   7.03        1.8        Kelkit (Gümüşhane)   \n",
      "\n",
      "      Type_ML Day  Month  Year  Hour  greater than two    Class  \\\n",
      "0        True  19     12  2023    15             False   Middle   \n",
      "1        True  19     12  2023    15             False  Shallow   \n",
      "2        True  19     12  2023    15              True   Middle   \n",
      "3        True  19     12  2023    15             False  Shallow   \n",
      "4        True  19     12  2023    14             False  Shallow   \n",
      "...       ...  ..    ...   ...   ...               ...      ...   \n",
      "3335     True  19     12  2023     0             False  Shallow   \n",
      "3336     True  19     12  2023     0              True  Shallow   \n",
      "3337     True  19     12  2023     0              True   Middle   \n",
      "3338     True  19     12  2023     0             False  Shallow   \n",
      "3339     True  19     12  2023     0             False  Shallow   \n",
      "\n",
      "                    destructiveness magnitude level  \n",
      "0     no significant damage occours           hight  \n",
      "1     no significant damage occours             low  \n",
      "2        high probability of damage           hight  \n",
      "3     no significant damage occours           hight  \n",
      "4     no significant damage occours             low  \n",
      "...                             ...             ...  \n",
      "3335  no significant damage occours           hight  \n",
      "3336     high probability of damage           hight  \n",
      "3337     high probability of damage           hight  \n",
      "3338  no significant damage occours           hight  \n",
      "3339  no significant damage occours           hight  \n",
      "\n",
      "[3340 rows x 14 columns]\n"
     ]
    }
   ],
   "source": [
    "threshold_value= sum(data.Magnitude) / len(data.Magnitude)\n",
    "data[\"magnitude level\"] = [\"hight\" if i  > threshold_value else \"low\" for i in data.Magnitude]\n",
    "data.loc[:10, [\"magnitude level\", \"Magnitude\"]]\n",
    "print(data)"
   ]
  },
  {
   "cell_type": "code",
   "execution_count": 121,
   "id": "910f1951",
   "metadata": {},
   "outputs": [
    {
     "data": {
      "image/png": "[encoded data removed]",
      "text/plain": [
       "<Figure size 640x480 with 1 Axes>"
      ]
     },
     "metadata": {},
     "output_type": "display_data"
    }
   ],
   "source": [
    "sns.countplot(x = \"magnitude level\" , data=data)\n",
    "plt.show()"
   ]
  },
  {
   "cell_type": "code",
   "execution_count": 122,
   "id": "b8e3d68a",
   "metadata": {},
   "outputs": [
    {
     "name": "stdout",
     "output_type": "stream",
     "text": [
      "0       0.629630\n",
      "1       0.555556\n",
      "2       0.814815\n",
      "3       0.703704\n",
      "4       0.370370\n",
      "          ...   \n",
      "3335    0.629630\n",
      "3336    0.777778\n",
      "3337    1.000000\n",
      "3338    0.592593\n",
      "3339    0.666667\n",
      "Name: Magnitude, Length: 3340, dtype: float64\n"
     ]
    }
   ],
   "source": [
    "new_data = pd.DataFrame(data, columns=[\"Depth\", \"Magnitude\"])\n",
    "new_data.head()\n",
    "new_data.Depth = new_data.Depth / max(new_data.Depth)\n",
    "new_data.Magnitude= new_data.Magnitude / max(new_data.Magnitude)\n",
    "print(new_data.Magnitude)"
   ]
  },
  {
   "cell_type": "code",
   "execution_count": 123,
   "id": "7e1266da",
   "metadata": {},
   "outputs": [
    {
     "data": {
      "image/png": "[encoded data removed]",
      "text/plain": [
       "<Figure size 800x800 with 1 Axes>"
      ]
     },
     "metadata": {},
     "output_type": "display_data"
    }
   ],
   "source": [
    "plt.figure(figsize=(8,8))\n",
    "pal = sns.cubehelix_palette(2, start=6 , rot=-.85)\n",
    "sns.violinplot(data= new_data, palette= pal, inner= \"points\")\n",
    "plt.show()"
   ]
  },
  {
   "cell_type": "code",
   "execution_count": 124,
   "id": "694d28a0",
   "metadata": {},
   "outputs": [],
   "source": [
    "label_encoder = preprocessing.LabelEncoder()\n",
    "data[\"intensity_encoded\"] = label_encoder.fit_transform(data[\"greater than two\"])\n",
    "data[\"Year_Encoded\"] = label_encoder.fit_transform(data[\"Year\"])\n",
    "data[\"Latitude_Encoded\"] = label_encoder.fit_transform(data[\"Latitude\"])\n",
    "data[\"Longitude_Encoded\"] = label_encoder.fit_transform(data[\"Longitude\"])\n",
    "data[\"Depth_Encoded\"] = label_encoder.fit_transform(data[\"Depth\"])\n",
    "data[\"Magnitude_Encoded\"] = label_encoder.fit_transform(data[\"Magnitude\"])"
   ]
  },
  {
   "cell_type": "code",
   "execution_count": 125,
   "id": "b67d32b3",
   "metadata": {
    "scrolled": true
   },
   "outputs": [
    {
     "name": "stdout",
     "output_type": "stream",
     "text": [
      "                    destructiveness  Year_Encoded  Depth_Encoded  \\\n",
      "0     no significant damage occours             0             31   \n",
      "1     no significant damage occours             0             14   \n",
      "2        high probability of damage             0             35   \n",
      "3     no significant damage occours             0             22   \n",
      "4     no significant damage occours             0             14   \n",
      "...                             ...           ...            ...   \n",
      "3335  no significant damage occours             0             25   \n",
      "3336     high probability of damage             0              2   \n",
      "3337     high probability of damage             0             33   \n",
      "3338  no significant damage occours             0             19   \n",
      "3339  no significant damage occours             0             17   \n",
      "\n",
      "      Magnitude_Encoded  \n",
      "0                     9  \n",
      "1                     7  \n",
      "2                    14  \n",
      "3                    11  \n",
      "4                     2  \n",
      "...                 ...  \n",
      "3335                  9  \n",
      "3336                 13  \n",
      "3337                 17  \n",
      "3338                  8  \n",
      "3339                 10  \n",
      "\n",
      "[3340 rows x 4 columns]\n"
     ]
    }
   ],
   "source": [
    "selected_columns = ['destructiveness', 'Year_Encoded', 'Depth_Encoded', 'Magnitude_Encoded']\n",
    "data = data[selected_columns]\n",
    "print(data)\n"
   ]
  },
  {
   "cell_type": "markdown",
   "id": "807e556b",
   "metadata": {},
   "source": [
    "# MODELLING"
   ]
  },
  {
   "cell_type": "code",
   "execution_count": 126,
   "id": "d233870d",
   "metadata": {},
   "outputs": [
    {
     "name": "stdout",
     "output_type": "stream",
     "text": [
      "DataFrame boyutu:  (3340, 4)\n",
      "Eğitim verisi boyutu:  (2338, 3) (2338, 1)\n",
      "Test verisi boyutu:  (1002, 3) (1002, 1)\n"
     ]
    }
   ],
   "source": [
    "array = data.values\n",
    "X= array[:,1:4]\n",
    "y = array[:,0:1]\n",
    "X_train,X_test,y_train,y_test = train_test_split(X,y, test_size=0.30 , random_state=1)\n",
    "print(\"DataFrame boyutu: \", data.shape)\n",
    "print(\"Eğitim verisi boyutu: \",X_train.shape, y_train.shape)\n",
    "print(\"Test verisi boyutu: \",X_test.shape, y_test.shape)"
   ]
  },
  {
   "cell_type": "markdown",
   "id": "6510755f",
   "metadata": {},
   "source": [
    "# Decision Trees"
   ]
  },
  {
   "cell_type": "code",
   "execution_count": 133,
   "id": "d069a57b",
   "metadata": {},
   "outputs": [
    {
     "name": "stdout",
     "output_type": "stream",
     "text": [
      "for decision tree accuracy:  1.0\n"
     ]
    }
   ],
   "source": [
    "cell_tree = DecisionTreeClassifier(criterion=\"entropy\", max_depth=4)\n",
    "cell_tree.fit(X_train,y_train)\n",
    "predictions = cell_tree.predict(X_test)\n",
    "accuracy = metrics.accuracy_score(y_test,predictions)\n",
    "print(\"for decision tree accuracy: \", accuracy)"
   ]
  },
  {
   "cell_type": "code",
   "execution_count": 136,
   "id": "0764b459",
   "metadata": {},
   "outputs": [
    {
     "name": "stdout",
     "output_type": "stream",
     "text": [
      "[1. 1. 1. 1. 1. 1. 1. 1. 1. 1.]\n"
     ]
    }
   ],
   "source": [
    "cell_tree_data = DecisionTreeClassifier(criterion=\"entropy\", max_depth=4)\n",
    "cv_scores_data = cross_val_score(cell_tree_data,X,y,cv=10)\n",
    "print(cv_scores_data)"
   ]
  },
  {
   "cell_type": "code",
   "execution_count": 137,
   "id": "c17da353",
   "metadata": {},
   "outputs": [
    {
     "name": "stdout",
     "output_type": "stream",
     "text": [
      "cv _scores mean: 1.0\n"
     ]
    }
   ],
   "source": [
    "print(\"cv _scores mean: {}\".format(np.mean(cv_scores_data)))"
   ]
  },
  {
   "cell_type": "code",
   "execution_count": 138,
   "id": "454f76aa",
   "metadata": {},
   "outputs": [
    {
     "name": "stdout",
     "output_type": "stream",
     "text": [
      "                               precision    recall  f1-score   support\n",
      "\n",
      "   high probability of damage       1.00      1.00      1.00       158\n",
      "no significant damage occours       1.00      1.00      1.00       844\n",
      "\n",
      "                     accuracy                           1.00      1002\n",
      "                    macro avg       1.00      1.00      1.00      1002\n",
      "                 weighted avg       1.00      1.00      1.00      1002\n",
      "\n"
     ]
    }
   ],
   "source": [
    "predic_data= classification_report(predictions,y_test)\n",
    "print(predic_data)"
   ]
  },
  {
   "cell_type": "markdown",
   "id": "8767e5f2",
   "metadata": {},
   "source": [
    "# K Neighbors Classifier"
   ]
  },
  {
   "cell_type": "code",
   "execution_count": 139,
   "id": "128702b9",
   "metadata": {},
   "outputs": [],
   "source": [
    "y = array[:, 0]  # İlk sütunu seçerek bir sütun vektörü elde ediyoruz\n",
    "y = array[:, 0].ravel()  # ravel() fonksiyonu ile düzleştirilmiş bir sütun vektörü elde ediyoruz\n",
    "X_train, X_test, y_train, y_test = train_test_split(X, y.ravel(), test_size=0.30, random_state=1)\n",
    "Knn_model = KNeighborsClassifier(n_neighbors=3)"
   ]
  },
  {
   "cell_type": "code",
   "execution_count": 144,
   "id": "e1afb32f",
   "metadata": {},
   "outputs": [
    {
     "name": "stdout",
     "output_type": "stream",
     "text": [
      "for knn accuracy 1.0\n"
     ]
    }
   ],
   "source": [
    "neighbors = Knn_model.fit(X_train,y_train)\n",
    "predict_knn= neighbors.predict(X_test)\n",
    "accuracy_knn= metrics.accuracy_score(y_test,predict_knn)\n",
    "print(\"for knn accuracy\", accuracy_knn)"
   ]
  },
  {
   "cell_type": "code",
   "execution_count": 146,
   "id": "3aaf61ea",
   "metadata": {},
   "outputs": [
    {
     "data": {
      "text/html": [
       "<style>#sk-container-id-3 {color: black;}#sk-container-id-3 pre{padding: 0;}#sk-container-id-3 div.sk-toggleable {background-color: white;}#sk-container-id-3 label.sk-toggleable__label {cursor: pointer;display: block;width: 100%;margin-bottom: 0;padding: 0.3em;box-sizing: border-box;text-align: center;}#sk-container-id-3 label.sk-toggleable__label-arrow:before {content: \"▸\";float: left;margin-right: 0.25em;color: #696969;}#sk-container-id-3 label.sk-toggleable__label-arrow:hover:before {color: black;}#sk-container-id-3 div.sk-estimator:hover label.sk-toggleable__label-arrow:before {color: black;}#sk-container-id-3 div.sk-toggleable__content {max-height: 0;max-width: 0;overflow: hidden;text-align: left;background-color: #f0f8ff;}#sk-container-id-3 div.sk-toggleable__content pre {margin: 0.2em;color: black;border-radius: 0.25em;background-color: #f0f8ff;}#sk-container-id-3 input.sk-toggleable__control:checked~div.sk-toggleable__content {max-height: 200px;max-width: 100%;overflow: auto;}#sk-container-id-3 input.sk-toggleable__control:checked~label.sk-toggleable__label-arrow:before {content: \"▾\";}#sk-container-id-3 div.sk-estimator input.sk-toggleable__control:checked~label.sk-toggleable__label {background-color: #d4ebff;}#sk-container-id-3 div.sk-label input.sk-toggleable__control:checked~label.sk-toggleable__label {background-color: #d4ebff;}#sk-container-id-3 input.sk-hidden--visually {border: 0;clip: rect(1px 1px 1px 1px);clip: rect(1px, 1px, 1px, 1px);height: 1px;margin: -1px;overflow: hidden;padding: 0;position: absolute;width: 1px;}#sk-container-id-3 div.sk-estimator {font-family: monospace;background-color: #f0f8ff;border: 1px dotted black;border-radius: 0.25em;box-sizing: border-box;margin-bottom: 0.5em;}#sk-container-id-3 div.sk-estimator:hover {background-color: #d4ebff;}#sk-container-id-3 div.sk-parallel-item::after {content: \"\";width: 100%;border-bottom: 1px solid gray;flex-grow: 1;}#sk-container-id-3 div.sk-label:hover label.sk-toggleable__label {background-color: #d4ebff;}#sk-container-id-3 div.sk-serial::before {content: \"\";position: absolute;border-left: 1px solid gray;box-sizing: border-box;top: 0;bottom: 0;left: 50%;z-index: 0;}#sk-container-id-3 div.sk-serial {display: flex;flex-direction: column;align-items: center;background-color: white;padding-right: 0.2em;padding-left: 0.2em;position: relative;}#sk-container-id-3 div.sk-item {position: relative;z-index: 1;}#sk-container-id-3 div.sk-parallel {display: flex;align-items: stretch;justify-content: center;background-color: white;position: relative;}#sk-container-id-3 div.sk-item::before, #sk-container-id-3 div.sk-parallel-item::before {content: \"\";position: absolute;border-left: 1px solid gray;box-sizing: border-box;top: 0;bottom: 0;left: 50%;z-index: -1;}#sk-container-id-3 div.sk-parallel-item {display: flex;flex-direction: column;z-index: 1;position: relative;background-color: white;}#sk-container-id-3 div.sk-parallel-item:first-child::after {align-self: flex-end;width: 50%;}#sk-container-id-3 div.sk-parallel-item:last-child::after {align-self: flex-start;width: 50%;}#sk-container-id-3 div.sk-parallel-item:only-child::after {width: 0;}#sk-container-id-3 div.sk-dashed-wrapped {border: 1px dashed gray;margin: 0 0.4em 0.5em 0.4em;box-sizing: border-box;padding-bottom: 0.4em;background-color: white;}#sk-container-id-3 div.sk-label label {font-family: monospace;font-weight: bold;display: inline-block;line-height: 1.2em;}#sk-container-id-3 div.sk-label-container {text-align: center;}#sk-container-id-3 div.sk-container {/* jupyter's `normalize.less` sets `[hidden] { display: none; }` but bootstrap.min.css set `[hidden] { display: none !important; }` so we also need the `!important` here to be able to override the default hidden behavior on the sphinx rendered scikit-learn.org. See: https://github.com/scikit-learn/scikit-learn/issues/21755 */display: inline-block !important;position: relative;}#sk-container-id-3 div.sk-text-repr-fallback {display: none;}</style><div id=\"sk-container-id-3\" class=\"sk-top-container\"><div class=\"sk-text-repr-fallback\"><pre>KNeighborsClassifier(n_neighbors=3)</pre><b>In a Jupyter environment, please rerun this cell to show the HTML representation or trust the notebook. <br />On GitHub, the HTML representation is unable to render, please try loading this page with nbviewer.org.</b></div><div class=\"sk-container\" hidden><div class=\"sk-item\"><div class=\"sk-estimator sk-toggleable\"><input class=\"sk-toggleable__control sk-hidden--visually\" id=\"sk-estimator-id-3\" type=\"checkbox\" checked><label for=\"sk-estimator-id-3\" class=\"sk-toggleable__label sk-toggleable__label-arrow\">KNeighborsClassifier</label><div class=\"sk-toggleable__content\"><pre>KNeighborsClassifier(n_neighbors=3)</pre></div></div></div></div></div>"
      ],
      "text/plain": [
       "KNeighborsClassifier(n_neighbors=3)"
      ]
     },
     "execution_count": 146,
     "metadata": {},
     "output_type": "execute_result"
    }
   ],
   "source": [
    "# for k=3 confusion matrix and metric values\n",
    "k = KNeighborsClassifier(n_neighbors=3)\n",
    "k"
   ]
  },
  {
   "cell_type": "code",
   "execution_count": 147,
   "id": "374e68bb",
   "metadata": {},
   "outputs": [
    {
     "name": "stdout",
     "output_type": "stream",
     "text": [
      "[1. 1. 1. 1. 1. 1. 1. 1. 1. 1.]\n"
     ]
    }
   ],
   "source": [
    "cv_scores_knn= cross_val_score(k,X,y,cv=10)\n",
    "print(cv_scores_knn)"
   ]
  },
  {
   "cell_type": "code",
   "execution_count": 148,
   "id": "14cac74b",
   "metadata": {},
   "outputs": [
    {
     "name": "stdout",
     "output_type": "stream",
     "text": [
      "cv_scores mean: 1.0\n"
     ]
    }
   ],
   "source": [
    "print(\"cv_scores mean: {}\".format(np.mean(cv_scores_knn)))"
   ]
  },
  {
   "cell_type": "code",
   "execution_count": 149,
   "id": "0f0b00c7",
   "metadata": {},
   "outputs": [
    {
     "name": "stdout",
     "output_type": "stream",
     "text": [
      "                               precision    recall  f1-score   support\n",
      "\n",
      "   high probability of damage       1.00      1.00      1.00       158\n",
      "no significant damage occours       1.00      1.00      1.00       844\n",
      "\n",
      "                     accuracy                           1.00      1002\n",
      "                    macro avg       1.00      1.00      1.00      1002\n",
      "                 weighted avg       1.00      1.00      1.00      1002\n",
      "\n"
     ]
    }
   ],
   "source": [
    "predict_knn= classification_report(predict_knn, y_test)\n",
    "print(predict_knn)"
   ]
  },
  {
   "cell_type": "markdown",
   "id": "4d220d47",
   "metadata": {},
   "source": [
    "# Gaussian NB"
   ]
  },
  {
   "cell_type": "code",
   "execution_count": 151,
   "id": "ec7b2736",
   "metadata": {},
   "outputs": [],
   "source": [
    "gnb = GaussianNB()\n",
    "gnb.fit(X_train,y_train)\n",
    "predict_gnb= gnb.predict(X_test)"
   ]
  },
  {
   "cell_type": "code",
   "execution_count": 152,
   "id": "4ee02b81",
   "metadata": {},
   "outputs": [
    {
     "name": "stdout",
     "output_type": "stream",
     "text": [
      "for gaussian naive base accuracy 1.0\n"
     ]
    }
   ],
   "source": [
    "accuracy_gnb= metrics.accuracy_score(y_test,predict_gnb)\n",
    "print(\"for gaussian naive base accuracy\",accuracy_gnb)"
   ]
  },
  {
   "cell_type": "code",
   "execution_count": 153,
   "id": "3485dce6",
   "metadata": {},
   "outputs": [
    {
     "name": "stdout",
     "output_type": "stream",
     "text": [
      "[1.         1.         1.         1.         0.97305389 0.91616766\n",
      " 0.91916168 0.97005988 1.         1.        ]\n"
     ]
    }
   ],
   "source": [
    "clf_gnb = GaussianNB()\n",
    "cv_scores_gnb = cross_val_score(clf_gnb,X,y,cv=10)\n",
    "print(cv_scores_gnb)"
   ]
  },
  {
   "cell_type": "code",
   "execution_count": 154,
   "id": "09919b50",
   "metadata": {},
   "outputs": [
    {
     "name": "stdout",
     "output_type": "stream",
     "text": [
      "cv_scores mean: 0.9778443113772454\n"
     ]
    }
   ],
   "source": [
    "print(\"cv_scores mean: {}\".format(np.mean(cv_scores_gnb)))"
   ]
  },
  {
   "cell_type": "code",
   "execution_count": 155,
   "id": "2cbf4f12",
   "metadata": {},
   "outputs": [
    {
     "name": "stdout",
     "output_type": "stream",
     "text": [
      "                               precision    recall  f1-score   support\n",
      "\n",
      "   high probability of damage       1.00      1.00      1.00       158\n",
      "no significant damage occours       1.00      1.00      1.00       844\n",
      "\n",
      "                     accuracy                           1.00      1002\n",
      "                    macro avg       1.00      1.00      1.00      1002\n",
      "                 weighted avg       1.00      1.00      1.00      1002\n",
      "\n"
     ]
    }
   ],
   "source": [
    "predict_gnb= classification_report(predict_gnb, y_test)\n",
    "print(predict_gnb)"
   ]
  },
  {
   "cell_type": "markdown",
   "id": "85d3a20a",
   "metadata": {},
   "source": [
    "# Logistic Regression"
   ]
  },
  {
   "cell_type": "code",
   "execution_count": 156,
   "id": "e39ccfad",
   "metadata": {},
   "outputs": [
    {
     "data": {
      "text/html": [
       "<style>#sk-container-id-4 {color: black;}#sk-container-id-4 pre{padding: 0;}#sk-container-id-4 div.sk-toggleable {background-color: white;}#sk-container-id-4 label.sk-toggleable__label {cursor: pointer;display: block;width: 100%;margin-bottom: 0;padding: 0.3em;box-sizing: border-box;text-align: center;}#sk-container-id-4 label.sk-toggleable__label-arrow:before {content: \"▸\";float: left;margin-right: 0.25em;color: #696969;}#sk-container-id-4 label.sk-toggleable__label-arrow:hover:before {color: black;}#sk-container-id-4 div.sk-estimator:hover label.sk-toggleable__label-arrow:before {color: black;}#sk-container-id-4 div.sk-toggleable__content {max-height: 0;max-width: 0;overflow: hidden;text-align: left;background-color: #f0f8ff;}#sk-container-id-4 div.sk-toggleable__content pre {margin: 0.2em;color: black;border-radius: 0.25em;background-color: #f0f8ff;}#sk-container-id-4 input.sk-toggleable__control:checked~div.sk-toggleable__content {max-height: 200px;max-width: 100%;overflow: auto;}#sk-container-id-4 input.sk-toggleable__control:checked~label.sk-toggleable__label-arrow:before {content: \"▾\";}#sk-container-id-4 div.sk-estimator input.sk-toggleable__control:checked~label.sk-toggleable__label {background-color: #d4ebff;}#sk-container-id-4 div.sk-label input.sk-toggleable__control:checked~label.sk-toggleable__label {background-color: #d4ebff;}#sk-container-id-4 input.sk-hidden--visually {border: 0;clip: rect(1px 1px 1px 1px);clip: rect(1px, 1px, 1px, 1px);height: 1px;margin: -1px;overflow: hidden;padding: 0;position: absolute;width: 1px;}#sk-container-id-4 div.sk-estimator {font-family: monospace;background-color: #f0f8ff;border: 1px dotted black;border-radius: 0.25em;box-sizing: border-box;margin-bottom: 0.5em;}#sk-container-id-4 div.sk-estimator:hover {background-color: #d4ebff;}#sk-container-id-4 div.sk-parallel-item::after {content: \"\";width: 100%;border-bottom: 1px solid gray;flex-grow: 1;}#sk-container-id-4 div.sk-label:hover label.sk-toggleable__label {background-color: #d4ebff;}#sk-container-id-4 div.sk-serial::before {content: \"\";position: absolute;border-left: 1px solid gray;box-sizing: border-box;top: 0;bottom: 0;left: 50%;z-index: 0;}#sk-container-id-4 div.sk-serial {display: flex;flex-direction: column;align-items: center;background-color: white;padding-right: 0.2em;padding-left: 0.2em;position: relative;}#sk-container-id-4 div.sk-item {position: relative;z-index: 1;}#sk-container-id-4 div.sk-parallel {display: flex;align-items: stretch;justify-content: center;background-color: white;position: relative;}#sk-container-id-4 div.sk-item::before, #sk-container-id-4 div.sk-parallel-item::before {content: \"\";position: absolute;border-left: 1px solid gray;box-sizing: border-box;top: 0;bottom: 0;left: 50%;z-index: -1;}#sk-container-id-4 div.sk-parallel-item {display: flex;flex-direction: column;z-index: 1;position: relative;background-color: white;}#sk-container-id-4 div.sk-parallel-item:first-child::after {align-self: flex-end;width: 50%;}#sk-container-id-4 div.sk-parallel-item:last-child::after {align-self: flex-start;width: 50%;}#sk-container-id-4 div.sk-parallel-item:only-child::after {width: 0;}#sk-container-id-4 div.sk-dashed-wrapped {border: 1px dashed gray;margin: 0 0.4em 0.5em 0.4em;box-sizing: border-box;padding-bottom: 0.4em;background-color: white;}#sk-container-id-4 div.sk-label label {font-family: monospace;font-weight: bold;display: inline-block;line-height: 1.2em;}#sk-container-id-4 div.sk-label-container {text-align: center;}#sk-container-id-4 div.sk-container {/* jupyter's `normalize.less` sets `[hidden] { display: none; }` but bootstrap.min.css set `[hidden] { display: none !important; }` so we also need the `!important` here to be able to override the default hidden behavior on the sphinx rendered scikit-learn.org. See: https://github.com/scikit-learn/scikit-learn/issues/21755 */display: inline-block !important;position: relative;}#sk-container-id-4 div.sk-text-repr-fallback {display: none;}</style><div id=\"sk-container-id-4\" class=\"sk-top-container\"><div class=\"sk-text-repr-fallback\"><pre>LogisticRegression(C=0.01, solver=&#x27;liblinear&#x27;)</pre><b>In a Jupyter environment, please rerun this cell to show the HTML representation or trust the notebook. <br />On GitHub, the HTML representation is unable to render, please try loading this page with nbviewer.org.</b></div><div class=\"sk-container\" hidden><div class=\"sk-item\"><div class=\"sk-estimator sk-toggleable\"><input class=\"sk-toggleable__control sk-hidden--visually\" id=\"sk-estimator-id-4\" type=\"checkbox\" checked><label for=\"sk-estimator-id-4\" class=\"sk-toggleable__label sk-toggleable__label-arrow\">LogisticRegression</label><div class=\"sk-toggleable__content\"><pre>LogisticRegression(C=0.01, solver=&#x27;liblinear&#x27;)</pre></div></div></div></div></div>"
      ],
      "text/plain": [
       "LogisticRegression(C=0.01, solver='liblinear')"
      ]
     },
     "execution_count": 156,
     "metadata": {},
     "output_type": "execute_result"
    }
   ],
   "source": [
    "LR = LogisticRegression(C= 0.01, solver=\"liblinear\").fit(X_train,y_train)\n",
    "lr_predict= LR.predict(X_test)\n",
    "LR"
   ]
  },
  {
   "cell_type": "code",
   "execution_count": 157,
   "id": "2ed5532d",
   "metadata": {},
   "outputs": [
    {
     "name": "stdout",
     "output_type": "stream",
     "text": [
      "for logistic regression accuracy 0.93812375249501\n"
     ]
    }
   ],
   "source": [
    "accuracy_lr = metrics.accuracy_score(y_test,lr_predict)\n",
    "print(\"for logistic regression accuracy\", accuracy_lr)"
   ]
  },
  {
   "cell_type": "code",
   "execution_count": 158,
   "id": "83236a57",
   "metadata": {},
   "outputs": [
    {
     "name": "stdout",
     "output_type": "stream",
     "text": [
      "[0.91616766 0.91916168 0.91616766 0.91916168 0.91616766 0.91616766\n",
      " 0.91916168 0.92814371 0.93413174 0.93113772]\n"
     ]
    }
   ],
   "source": [
    "logistic_r = LogisticRegression(C=0.01,solver=\"liblinear\")\n",
    "cv_scores_logistic_r = cross_val_score(logistic_r,X,y,cv=10)\n",
    "print(cv_scores_logistic_r)"
   ]
  },
  {
   "cell_type": "code",
   "execution_count": 159,
   "id": "d2c0356c",
   "metadata": {},
   "outputs": [
    {
     "name": "stdout",
     "output_type": "stream",
     "text": [
      "cv_scores mean: 0.9215568862275451\n"
     ]
    }
   ],
   "source": [
    "print(\"cv_scores mean: {}\".format(np.mean(cv_scores_logistic_r)))"
   ]
  },
  {
   "cell_type": "code",
   "execution_count": 160,
   "id": "a612eb43",
   "metadata": {},
   "outputs": [
    {
     "name": "stdout",
     "output_type": "stream",
     "text": [
      "                               precision    recall  f1-score   support\n",
      "\n",
      "   high probability of damage       0.61      1.00      0.76        96\n",
      "no significant damage occours       1.00      0.93      0.96       906\n",
      "\n",
      "                     accuracy                           0.94      1002\n",
      "                    macro avg       0.80      0.97      0.86      1002\n",
      "                 weighted avg       0.96      0.94      0.94      1002\n",
      "\n"
     ]
    }
   ],
   "source": [
    "predict_lr= classification_report(lr_predict, y_test)\n",
    "print(predict_lr)\n"
   ]
  },
  {
   "cell_type": "markdown",
   "id": "31eae9d0",
   "metadata": {},
   "source": [
    "# Polynomial Regression"
   ]
  },
  {
   "cell_type": "code",
   "execution_count": 163,
   "id": "690529d4",
   "metadata": {},
   "outputs": [],
   "source": [
    "from sklearn.preprocessing import PolynomialFeatures\n",
    "from sklearn.pipeline import make_pipeline\n",
    "\n",
    "poly_degree = 2 \n",
    "poly = PolynomialFeatures(degree=poly_degree)\n",
    "X_poly = poly.fit_transform(X_train)\n",
    "poly_lr = LogisticRegression(C=0.01, solver=\"liblinear\").fit(X_poly, y_train)\n",
    "X_test_poly = poly.transform(X_test)\n",
    "poly_lr_predict = poly_lr.predict(X_test_poly)\n",
    "\n"
   ]
  },
  {
   "cell_type": "code",
   "execution_count": 164,
   "id": "1b2ff6bb",
   "metadata": {},
   "outputs": [
    {
     "name": "stdout",
     "output_type": "stream",
     "text": [
      "Polynomial logistic regression accuracy: 1.0\n"
     ]
    }
   ],
   "source": [
    "accuracy_poly_lr = metrics.accuracy_score(y_test, poly_lr_predict)\n",
    "print(\"Polynomial logistic regression accuracy:\", accuracy_poly_lr)\n",
    "\n"
   ]
  },
  {
   "cell_type": "code",
   "execution_count": 165,
   "id": "3ba2b0b2",
   "metadata": {},
   "outputs": [
    {
     "name": "stdout",
     "output_type": "stream",
     "text": [
      "[1. 1. 1. 1. 1. 1. 1. 1. 1. 1.]\n"
     ]
    }
   ],
   "source": [
    "poly_logistic_r = LogisticRegression(C=0.01, solver=\"liblinear\")\n",
    "cv_scores_poly_logistic_r = cross_val_score(poly_logistic_r, X_poly, y_train, cv=10)\n",
    "print(cv_scores_poly_logistic_r)"
   ]
  },
  {
   "cell_type": "code",
   "execution_count": 166,
   "id": "4019f2e7",
   "metadata": {},
   "outputs": [
    {
     "name": "stdout",
     "output_type": "stream",
     "text": [
      "CV_scores mean: 1.0\n"
     ]
    }
   ],
   "source": [
    "print(\"CV_scores mean: {}\".format(np.mean(cv_scores_poly_logistic_r)))"
   ]
  },
  {
   "cell_type": "code",
   "execution_count": 167,
   "id": "eaaa1e6f",
   "metadata": {},
   "outputs": [
    {
     "name": "stdout",
     "output_type": "stream",
     "text": [
      "                               precision    recall  f1-score   support\n",
      "\n",
      "   high probability of damage       1.00      1.00      1.00       158\n",
      "no significant damage occours       1.00      1.00      1.00       844\n",
      "\n",
      "                     accuracy                           1.00      1002\n",
      "                    macro avg       1.00      1.00      1.00      1002\n",
      "                 weighted avg       1.00      1.00      1.00      1002\n",
      "\n"
     ]
    }
   ],
   "source": [
    "predict_poly_lr = classification_report(poly_lr_predict, y_test)\n",
    "print(predict_poly_lr)"
   ]
  },
  {
   "cell_type": "markdown",
   "id": "cbe65bb2",
   "metadata": {},
   "source": [
    "# Random Forest"
   ]
  },
  {
   "cell_type": "code",
   "execution_count": 168,
   "id": "76034f99",
   "metadata": {},
   "outputs": [],
   "source": [
    "from sklearn.ensemble import RandomForestClassifier\n",
    "\n",
    "X_train, X_test, y_train, y_test = train_test_split(X, y.ravel(), test_size=0.30, random_state=1)\n",
    "\n",
    "rf_model = RandomForestClassifier(n_estimators=100, random_state=1)\n",
    "rf_model.fit(X_train, y_train)\n",
    "rf_predict = rf_model.predict(X_test)"
   ]
  },
  {
   "cell_type": "code",
   "execution_count": 169,
   "id": "36fdabc6",
   "metadata": {},
   "outputs": [
    {
     "name": "stdout",
     "output_type": "stream",
     "text": [
      "Random Forest accuracy: 1.0\n"
     ]
    }
   ],
   "source": [
    "accuracy_rf = metrics.accuracy_score(y_test, rf_predict)\n",
    "print(\"Random Forest accuracy:\", accuracy_rf)"
   ]
  },
  {
   "cell_type": "code",
   "execution_count": 170,
   "id": "8bdd502c",
   "metadata": {},
   "outputs": [
    {
     "name": "stdout",
     "output_type": "stream",
     "text": [
      "[1. 1. 1. 1. 1. 1. 1. 1. 1. 1.]\n"
     ]
    }
   ],
   "source": [
    "rf = RandomForestClassifier(n_estimators=100, random_state=1)\n",
    "cv_scores_rf = cross_val_score(rf, X, y.ravel(), cv=10)\n",
    "print(cv_scores_rf)"
   ]
  },
  {
   "cell_type": "code",
   "execution_count": 171,
   "id": "bdb22c81",
   "metadata": {},
   "outputs": [
    {
     "name": "stdout",
     "output_type": "stream",
     "text": [
      "CV_scores mean: 1.0\n"
     ]
    }
   ],
   "source": [
    "print(\"CV_scores mean: {}\".format(np.mean(cv_scores_rf)))"
   ]
  },
  {
   "cell_type": "code",
   "execution_count": 172,
   "id": "f50ca663",
   "metadata": {
    "scrolled": true
   },
   "outputs": [
    {
     "name": "stdout",
     "output_type": "stream",
     "text": [
      "                               precision    recall  f1-score   support\n",
      "\n",
      "   high probability of damage       1.00      1.00      1.00       158\n",
      "no significant damage occours       1.00      1.00      1.00       844\n",
      "\n",
      "                     accuracy                           1.00      1002\n",
      "                    macro avg       1.00      1.00      1.00      1002\n",
      "                 weighted avg       1.00      1.00      1.00      1002\n",
      "\n"
     ]
    }
   ],
   "source": [
    "predict_rf = classification_report(rf_predict, y_test)\n",
    "print(predict_rf)"
   ]
  },
  {
   "cell_type": "markdown",
   "id": "f3a31570",
   "metadata": {},
   "source": [
    "# Support Vector Machines"
   ]
  },
  {
   "cell_type": "code",
   "execution_count": 173,
   "id": "97a45f22",
   "metadata": {},
   "outputs": [],
   "source": [
    "from sklearn.svm import SVC\n",
    "X_train, X_test, y_train, y_test = train_test_split(X, y.ravel(), test_size=0.30, random_state=1)\n",
    "\n",
    "svm_model = SVC(kernel='linear', C=1)\n",
    "svm_model.fit(X_train, y_train)\n",
    "svm_predict = svm_model.predict(X_test)"
   ]
  },
  {
   "cell_type": "code",
   "execution_count": 174,
   "id": "4fa2209d",
   "metadata": {},
   "outputs": [
    {
     "name": "stdout",
     "output_type": "stream",
     "text": [
      "SVM accuracy: 1.0\n"
     ]
    }
   ],
   "source": [
    "accuracy_svm = metrics.accuracy_score(y_test, svm_predict)\n",
    "print(\"SVM accuracy:\", accuracy_svm)"
   ]
  },
  {
   "cell_type": "code",
   "execution_count": 181,
   "id": "f7eacb87",
   "metadata": {},
   "outputs": [
    {
     "name": "stdout",
     "output_type": "stream",
     "text": [
      "[1. 1. 1. 1. 1. 1. 1. 1. 1. 1.]\n"
     ]
    }
   ],
   "source": [
    "svm = SVC(kernel='linear', C=1)\n",
    "cv_scores_svm = cross_val_score(svm, X, y.ravel(), cv=10)\n",
    "print(cv_scores_svm)"
   ]
  },
  {
   "cell_type": "code",
   "execution_count": 182,
   "id": "d885e74d",
   "metadata": {},
   "outputs": [
    {
     "name": "stdout",
     "output_type": "stream",
     "text": [
      "CV_scores mean: 1.0\n"
     ]
    }
   ],
   "source": [
    "print(\"CV_scores mean: {}\".format(np.mean(cv_scores_svm)))"
   ]
  },
  {
   "cell_type": "code",
   "execution_count": 183,
   "id": "7f41270c",
   "metadata": {},
   "outputs": [
    {
     "name": "stdout",
     "output_type": "stream",
     "text": [
      "                               precision    recall  f1-score   support\n",
      "\n",
      "   high probability of damage       1.00      1.00      1.00       158\n",
      "no significant damage occours       1.00      1.00      1.00       844\n",
      "\n",
      "                     accuracy                           1.00      1002\n",
      "                    macro avg       1.00      1.00      1.00      1002\n",
      "                 weighted avg       1.00      1.00      1.00      1002\n",
      "\n"
     ]
    }
   ],
   "source": [
    "predict_svm = classification_report(svm_predict, y_test)\n",
    "print(predict_svm)"
   ]
  },
  {
   "cell_type": "code",
   "execution_count": 185,
   "id": "7e3d347b",
   "metadata": {},
   "outputs": [
    {
     "data": {
      "text/plain": [
       "['knn_model.joblib']"
      ]
     },
     "execution_count": 185,
     "metadata": {},
     "output_type": "execute_result"
    }
   ],
   "source": [
    "import joblib\n",
    "\n",
    "joblib.dump(neighbors, 'knn_model.joblib')"
   ]
  }
 ],
 "metadata": {
  "kernelspec": {
   "display_name": "Python 3 (ipykernel)",
   "language": "python",
   "name": "python3"
  },
  "language_info": {
   "codemirror_mode": {
    "name": "ipython",
    "version": 3
   },
   "file_extension": ".py",
   "mimetype": "text/x-python",
   "name": "python",
   "nbconvert_exporter": "python",
   "pygments_lexer": "ipython3",
   "version": "3.11.5"
  }
 },
 "nbformat": 4,
 "nbformat_minor": 5
}
